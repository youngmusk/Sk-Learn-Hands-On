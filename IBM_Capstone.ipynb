{
  "metadata": {
    "kernelspec": {
      "language": "python",
      "display_name": "Python 3",
      "name": "python3"
    },
    "language_info": {
      "pygments_lexer": "ipython3",
      "nbconvert_exporter": "python",
      "version": "3.6.4",
      "file_extension": ".py",
      "codemirror_mode": {
        "name": "ipython",
        "version": 3
      },
      "name": "python",
      "mimetype": "text/x-python"
    },
    "colab": {
      "name": "Capstone_Spacex.ipynb",
      "provenance": [],
      "collapsed_sections": [
        "78C0yeKSVmUw",
        "YhRqnBVOVmUy",
        "YZiQ4C6nVmUy",
        "y7gIisy5VmU0",
        "MjMvzp6NVmU1",
        "KN0Gg3zDVmU3",
        "F8fZJ-CuVmU5",
        "T0hmlxQqVmU5",
        "Osd1Oj_QVmU6"
      ],
      "include_colab_link": true
    }
  },
  "nbformat_minor": 0,
  "nbformat": 4,
  "cells": [
    {
      "cell_type": "markdown",
      "metadata": {
        "id": "view-in-github",
        "colab_type": "text"
      },
      "source": [
        "<a href=\"https://colab.research.google.com/github/youngmusk/Sk-Learn-Hands-On/blob/master/IBM_Capstone.ipynb\" target=\"_parent\"><img src=\"https://colab.research.google.com/assets/colab-badge.svg\" alt=\"Open In Colab\"/></a>"
      ]
    },
    {
      "cell_type": "markdown",
      "source": [
        "# Overview"
      ],
      "metadata": {
        "id": "HgDqzLDlVmUd"
      }
    },
    {
      "cell_type": "markdown",
      "source": [
        "This is a capstone project of the [IBM Data Science Certification program](https://www.coursera.org/learn/applied-data-science-capstone/home/welcome)\n",
        "\n"
      ],
      "metadata": {
        "id": "uLfQrh51VmUk"
      }
    },
    {
      "cell_type": "markdown",
      "source": [
        "### Table of Contents\n",
        "* [Data Wrangling](#data-wrangling)\n",
        "   * [Import Data](#data-import)\n",
        "   * [Dealing with missing values](#missing-data)\n",
        "* [EDA](#eda)\n",
        "   * [Extract Target Variable](#eda-target)\n",
        "   * [Features Selection](#fs)\n",
        "       * [Discard Obsolete Variables](#fs-drop-columns)\n",
        "       * [Categorical Variables](#fs-categorical)\n",
        "       * [Boolean Variables](#fs-boolean)\n",
        "       * [Numeric Variables](#fs-numeric)\n",
        "   * [Build Features Set](#fs-build-dataset)\n",
        "* [Machine Learning Predictions](#ml-predictions)\n",
        "   * [Decision Tree](#ml-decision-tree)\n",
        "   * [Results](#ml-results)\n",
        "    "
      ],
      "metadata": {
        "id": "unDgLAjIVmUl"
      }
    },
    {
      "cell_type": "markdown",
      "source": [
        "# Data Wrangling <a class=\"anchor\"  id=\"data-wrangling\"></a>"
      ],
      "metadata": {
        "id": "lLTt06XHVmUm"
      }
    },
    {
      "cell_type": "code",
      "source": [
        "!python -m pip install pickle5"
      ],
      "metadata": {
        "execution": {
          "iopub.status.busy": "2021-10-19T15:45:30.144312Z",
          "iopub.execute_input": "2021-10-19T15:45:30.144615Z",
          "iopub.status.idle": "2021-10-19T15:45:36.701125Z",
          "shell.execute_reply.started": "2021-10-19T15:45:30.144585Z",
          "shell.execute_reply": "2021-10-19T15:45:36.700236Z"
        },
        "trusted": true,
        "colab": {
          "base_uri": "https://localhost:8080/"
        },
        "id": "uBi2GQYSVmUm",
        "outputId": "43bacbc6-db68-4558-f124-21af88addf1a"
      },
      "execution_count": 1,
      "outputs": [
        {
          "output_type": "stream",
          "name": "stdout",
          "text": [
            "Looking in indexes: https://pypi.org/simple, https://us-python.pkg.dev/colab-wheels/public/simple/\n",
            "Collecting pickle5\n",
            "  Downloading pickle5-0.0.12-cp37-cp37m-manylinux_2_5_x86_64.manylinux1_x86_64.whl (256 kB)\n",
            "\u001b[K     |████████████████████████████████| 256 kB 14.2 MB/s \n",
            "\u001b[?25hInstalling collected packages: pickle5\n",
            "Successfully installed pickle5-0.0.12\n"
          ]
        }
      ]
    },
    {
      "cell_type": "code",
      "source": [
        "import numpy as np\n",
        "import pandas as pd\n",
        "import matplotlib.pyplot as plt\n",
        "import seaborn as sns\n",
        "%matplotlib inline\n",
        "sns.set()"
      ],
      "metadata": {
        "execution": {
          "iopub.status.busy": "2021-10-19T15:45:36.703657Z",
          "iopub.execute_input": "2021-10-19T15:45:36.704293Z",
          "iopub.status.idle": "2021-10-19T15:45:36.712711Z",
          "shell.execute_reply.started": "2021-10-19T15:45:36.704249Z",
          "shell.execute_reply": "2021-10-19T15:45:36.71184Z"
        },
        "trusted": true,
        "id": "r-gMOav7VmUn"
      },
      "execution_count": 2,
      "outputs": []
    },
    {
      "cell_type": "markdown",
      "source": [
        "## Import Data <a class=\"anchor\"  id=\"data-import\"></a>\n",
        "The piece of code used to retrieve the Falcon 9 data was taken from this [notebook]('https://cf-courses-data.s3.us.cloud-object-storage.appdomain.cloud/IBM-DS0321EN-SkillsNetwork/labs/module_1_L2/jupyter-labs-spacex-data-collection-api.ipynb') which contains an API designed for this puspose and privided with the project assignment."
      ],
      "metadata": {
        "id": "dhixv9wHVmUo"
      }
    },
    {
      "cell_type": "code",
      "source": [
        "data = pd.read_csv(\"https://cf-courses-data.s3.us.cloud-object-storage.appdomain.cloud/IBM-DS0321EN-SkillsNetwork/datasets/dataset_part_2.csv\")\n",
        "data.head()"
      ],
      "metadata": {
        "execution": {
          "iopub.status.busy": "2021-10-19T15:45:36.714209Z",
          "iopub.execute_input": "2021-10-19T15:45:36.71445Z",
          "iopub.status.idle": "2021-10-19T15:45:36.732353Z",
          "shell.execute_reply.started": "2021-10-19T15:45:36.714423Z",
          "shell.execute_reply": "2021-10-19T15:45:36.73157Z"
        },
        "trusted": true,
        "colab": {
          "base_uri": "https://localhost:8080/",
          "height": 357
        },
        "id": "4iNLoXvRVmUp",
        "outputId": "1450be1c-6f93-4ee3-a8ba-b4d923460a94"
      },
      "execution_count": 4,
      "outputs": [
        {
          "output_type": "execute_result",
          "data": {
            "text/plain": [
              "   FlightNumber        Date BoosterVersion  PayloadMass Orbit    LaunchSite  \\\n",
              "0             1  2010-06-04       Falcon 9  6104.959412   LEO  CCAFS SLC 40   \n",
              "1             2  2012-05-22       Falcon 9   525.000000   LEO  CCAFS SLC 40   \n",
              "2             3  2013-03-01       Falcon 9   677.000000   ISS  CCAFS SLC 40   \n",
              "3             4  2013-09-29       Falcon 9   500.000000    PO   VAFB SLC 4E   \n",
              "4             5  2013-12-03       Falcon 9  3170.000000   GTO  CCAFS SLC 40   \n",
              "\n",
              "       Outcome  Flights  GridFins  Reused   Legs LandingPad  Block  \\\n",
              "0    None None        1     False   False  False        NaN    1.0   \n",
              "1    None None        1     False   False  False        NaN    1.0   \n",
              "2    None None        1     False   False  False        NaN    1.0   \n",
              "3  False Ocean        1     False   False  False        NaN    1.0   \n",
              "4    None None        1     False   False  False        NaN    1.0   \n",
              "\n",
              "   ReusedCount Serial   Longitude   Latitude  Class  \n",
              "0            0  B0003  -80.577366  28.561857      0  \n",
              "1            0  B0005  -80.577366  28.561857      0  \n",
              "2            0  B0007  -80.577366  28.561857      0  \n",
              "3            0  B1003 -120.610829  34.632093      0  \n",
              "4            0  B1004  -80.577366  28.561857      0  "
            ],
            "text/html": [
              "\n",
              "  <div id=\"df-f71528f8-0ee3-4627-b35a-ba9abfe76c5a\">\n",
              "    <div class=\"colab-df-container\">\n",
              "      <div>\n",
              "<style scoped>\n",
              "    .dataframe tbody tr th:only-of-type {\n",
              "        vertical-align: middle;\n",
              "    }\n",
              "\n",
              "    .dataframe tbody tr th {\n",
              "        vertical-align: top;\n",
              "    }\n",
              "\n",
              "    .dataframe thead th {\n",
              "        text-align: right;\n",
              "    }\n",
              "</style>\n",
              "<table border=\"1\" class=\"dataframe\">\n",
              "  <thead>\n",
              "    <tr style=\"text-align: right;\">\n",
              "      <th></th>\n",
              "      <th>FlightNumber</th>\n",
              "      <th>Date</th>\n",
              "      <th>BoosterVersion</th>\n",
              "      <th>PayloadMass</th>\n",
              "      <th>Orbit</th>\n",
              "      <th>LaunchSite</th>\n",
              "      <th>Outcome</th>\n",
              "      <th>Flights</th>\n",
              "      <th>GridFins</th>\n",
              "      <th>Reused</th>\n",
              "      <th>Legs</th>\n",
              "      <th>LandingPad</th>\n",
              "      <th>Block</th>\n",
              "      <th>ReusedCount</th>\n",
              "      <th>Serial</th>\n",
              "      <th>Longitude</th>\n",
              "      <th>Latitude</th>\n",
              "      <th>Class</th>\n",
              "    </tr>\n",
              "  </thead>\n",
              "  <tbody>\n",
              "    <tr>\n",
              "      <th>0</th>\n",
              "      <td>1</td>\n",
              "      <td>2010-06-04</td>\n",
              "      <td>Falcon 9</td>\n",
              "      <td>6104.959412</td>\n",
              "      <td>LEO</td>\n",
              "      <td>CCAFS SLC 40</td>\n",
              "      <td>None None</td>\n",
              "      <td>1</td>\n",
              "      <td>False</td>\n",
              "      <td>False</td>\n",
              "      <td>False</td>\n",
              "      <td>NaN</td>\n",
              "      <td>1.0</td>\n",
              "      <td>0</td>\n",
              "      <td>B0003</td>\n",
              "      <td>-80.577366</td>\n",
              "      <td>28.561857</td>\n",
              "      <td>0</td>\n",
              "    </tr>\n",
              "    <tr>\n",
              "      <th>1</th>\n",
              "      <td>2</td>\n",
              "      <td>2012-05-22</td>\n",
              "      <td>Falcon 9</td>\n",
              "      <td>525.000000</td>\n",
              "      <td>LEO</td>\n",
              "      <td>CCAFS SLC 40</td>\n",
              "      <td>None None</td>\n",
              "      <td>1</td>\n",
              "      <td>False</td>\n",
              "      <td>False</td>\n",
              "      <td>False</td>\n",
              "      <td>NaN</td>\n",
              "      <td>1.0</td>\n",
              "      <td>0</td>\n",
              "      <td>B0005</td>\n",
              "      <td>-80.577366</td>\n",
              "      <td>28.561857</td>\n",
              "      <td>0</td>\n",
              "    </tr>\n",
              "    <tr>\n",
              "      <th>2</th>\n",
              "      <td>3</td>\n",
              "      <td>2013-03-01</td>\n",
              "      <td>Falcon 9</td>\n",
              "      <td>677.000000</td>\n",
              "      <td>ISS</td>\n",
              "      <td>CCAFS SLC 40</td>\n",
              "      <td>None None</td>\n",
              "      <td>1</td>\n",
              "      <td>False</td>\n",
              "      <td>False</td>\n",
              "      <td>False</td>\n",
              "      <td>NaN</td>\n",
              "      <td>1.0</td>\n",
              "      <td>0</td>\n",
              "      <td>B0007</td>\n",
              "      <td>-80.577366</td>\n",
              "      <td>28.561857</td>\n",
              "      <td>0</td>\n",
              "    </tr>\n",
              "    <tr>\n",
              "      <th>3</th>\n",
              "      <td>4</td>\n",
              "      <td>2013-09-29</td>\n",
              "      <td>Falcon 9</td>\n",
              "      <td>500.000000</td>\n",
              "      <td>PO</td>\n",
              "      <td>VAFB SLC 4E</td>\n",
              "      <td>False Ocean</td>\n",
              "      <td>1</td>\n",
              "      <td>False</td>\n",
              "      <td>False</td>\n",
              "      <td>False</td>\n",
              "      <td>NaN</td>\n",
              "      <td>1.0</td>\n",
              "      <td>0</td>\n",
              "      <td>B1003</td>\n",
              "      <td>-120.610829</td>\n",
              "      <td>34.632093</td>\n",
              "      <td>0</td>\n",
              "    </tr>\n",
              "    <tr>\n",
              "      <th>4</th>\n",
              "      <td>5</td>\n",
              "      <td>2013-12-03</td>\n",
              "      <td>Falcon 9</td>\n",
              "      <td>3170.000000</td>\n",
              "      <td>GTO</td>\n",
              "      <td>CCAFS SLC 40</td>\n",
              "      <td>None None</td>\n",
              "      <td>1</td>\n",
              "      <td>False</td>\n",
              "      <td>False</td>\n",
              "      <td>False</td>\n",
              "      <td>NaN</td>\n",
              "      <td>1.0</td>\n",
              "      <td>0</td>\n",
              "      <td>B1004</td>\n",
              "      <td>-80.577366</td>\n",
              "      <td>28.561857</td>\n",
              "      <td>0</td>\n",
              "    </tr>\n",
              "  </tbody>\n",
              "</table>\n",
              "</div>\n",
              "      <button class=\"colab-df-convert\" onclick=\"convertToInteractive('df-f71528f8-0ee3-4627-b35a-ba9abfe76c5a')\"\n",
              "              title=\"Convert this dataframe to an interactive table.\"\n",
              "              style=\"display:none;\">\n",
              "        \n",
              "  <svg xmlns=\"http://www.w3.org/2000/svg\" height=\"24px\"viewBox=\"0 0 24 24\"\n",
              "       width=\"24px\">\n",
              "    <path d=\"M0 0h24v24H0V0z\" fill=\"none\"/>\n",
              "    <path d=\"M18.56 5.44l.94 2.06.94-2.06 2.06-.94-2.06-.94-.94-2.06-.94 2.06-2.06.94zm-11 1L8.5 8.5l.94-2.06 2.06-.94-2.06-.94L8.5 2.5l-.94 2.06-2.06.94zm10 10l.94 2.06.94-2.06 2.06-.94-2.06-.94-.94-2.06-.94 2.06-2.06.94z\"/><path d=\"M17.41 7.96l-1.37-1.37c-.4-.4-.92-.59-1.43-.59-.52 0-1.04.2-1.43.59L10.3 9.45l-7.72 7.72c-.78.78-.78 2.05 0 2.83L4 21.41c.39.39.9.59 1.41.59.51 0 1.02-.2 1.41-.59l7.78-7.78 2.81-2.81c.8-.78.8-2.07 0-2.86zM5.41 20L4 18.59l7.72-7.72 1.47 1.35L5.41 20z\"/>\n",
              "  </svg>\n",
              "      </button>\n",
              "      \n",
              "  <style>\n",
              "    .colab-df-container {\n",
              "      display:flex;\n",
              "      flex-wrap:wrap;\n",
              "      gap: 12px;\n",
              "    }\n",
              "\n",
              "    .colab-df-convert {\n",
              "      background-color: #E8F0FE;\n",
              "      border: none;\n",
              "      border-radius: 50%;\n",
              "      cursor: pointer;\n",
              "      display: none;\n",
              "      fill: #1967D2;\n",
              "      height: 32px;\n",
              "      padding: 0 0 0 0;\n",
              "      width: 32px;\n",
              "    }\n",
              "\n",
              "    .colab-df-convert:hover {\n",
              "      background-color: #E2EBFA;\n",
              "      box-shadow: 0px 1px 2px rgba(60, 64, 67, 0.3), 0px 1px 3px 1px rgba(60, 64, 67, 0.15);\n",
              "      fill: #174EA6;\n",
              "    }\n",
              "\n",
              "    [theme=dark] .colab-df-convert {\n",
              "      background-color: #3B4455;\n",
              "      fill: #D2E3FC;\n",
              "    }\n",
              "\n",
              "    [theme=dark] .colab-df-convert:hover {\n",
              "      background-color: #434B5C;\n",
              "      box-shadow: 0px 1px 3px 1px rgba(0, 0, 0, 0.15);\n",
              "      filter: drop-shadow(0px 1px 2px rgba(0, 0, 0, 0.3));\n",
              "      fill: #FFFFFF;\n",
              "    }\n",
              "  </style>\n",
              "\n",
              "      <script>\n",
              "        const buttonEl =\n",
              "          document.querySelector('#df-f71528f8-0ee3-4627-b35a-ba9abfe76c5a button.colab-df-convert');\n",
              "        buttonEl.style.display =\n",
              "          google.colab.kernel.accessAllowed ? 'block' : 'none';\n",
              "\n",
              "        async function convertToInteractive(key) {\n",
              "          const element = document.querySelector('#df-f71528f8-0ee3-4627-b35a-ba9abfe76c5a');\n",
              "          const dataTable =\n",
              "            await google.colab.kernel.invokeFunction('convertToInteractive',\n",
              "                                                     [key], {});\n",
              "          if (!dataTable) return;\n",
              "\n",
              "          const docLinkHtml = 'Like what you see? Visit the ' +\n",
              "            '<a target=\"_blank\" href=https://colab.research.google.com/notebooks/data_table.ipynb>data table notebook</a>'\n",
              "            + ' to learn more about interactive tables.';\n",
              "          element.innerHTML = '';\n",
              "          dataTable['output_type'] = 'display_data';\n",
              "          await google.colab.output.renderOutput(dataTable, element);\n",
              "          const docLink = document.createElement('div');\n",
              "          docLink.innerHTML = docLinkHtml;\n",
              "          element.appendChild(docLink);\n",
              "        }\n",
              "      </script>\n",
              "    </div>\n",
              "  </div>\n",
              "  "
            ]
          },
          "metadata": {},
          "execution_count": 4
        }
      ]
    },
    {
      "cell_type": "markdown",
      "source": [
        "## Dealing with missing values <a class=\"anchor\"  id=\"missing-data\"></a>\n",
        "We can see below that some of the rows are missing values in our dataset. As our dataset only contains 119 observations, we will avoid removing rows containing null data but rather fill the missing data using different techniques."
      ],
      "metadata": {
        "id": "IfKjl6TlVmUq"
      }
    },
    {
      "cell_type": "code",
      "source": [
        "data.isnull().sum()"
      ],
      "metadata": {
        "execution": {
          "iopub.status.busy": "2021-10-19T15:45:36.760813Z",
          "iopub.execute_input": "2021-10-19T15:45:36.761431Z",
          "iopub.status.idle": "2021-10-19T15:45:36.770403Z",
          "shell.execute_reply.started": "2021-10-19T15:45:36.761398Z",
          "shell.execute_reply": "2021-10-19T15:45:36.769582Z"
        },
        "trusted": true,
        "colab": {
          "base_uri": "https://localhost:8080/"
        },
        "id": "HkhdXkXVVmUr",
        "outputId": "5fa710fd-0149-443a-acbb-56c508c9f0a7"
      },
      "execution_count": 5,
      "outputs": [
        {
          "output_type": "execute_result",
          "data": {
            "text/plain": [
              "FlightNumber       0\n",
              "Date               0\n",
              "BoosterVersion     0\n",
              "PayloadMass        0\n",
              "Orbit              0\n",
              "LaunchSite         0\n",
              "Outcome            0\n",
              "Flights            0\n",
              "GridFins           0\n",
              "Reused             0\n",
              "Legs               0\n",
              "LandingPad        26\n",
              "Block              0\n",
              "ReusedCount        0\n",
              "Serial             0\n",
              "Longitude          0\n",
              "Latitude           0\n",
              "Class              0\n",
              "dtype: int64"
            ]
          },
          "metadata": {},
          "execution_count": 5
        }
      ]
    },
    {
      "cell_type": "markdown",
      "source": [
        "We deal with the missing values in `PayloadMass` by replacing the null values with the median.\n",
        "\n",
        "Similarily, we deal with the missing values in `Orbit`by replacing the null values with the mode."
      ],
      "metadata": {
        "id": "CkBJ4Hk_VmUr"
      }
    },
    {
      "cell_type": "code",
      "source": [
        "# Fill missing PayloadMass with median\n",
        "data['PayloadMass'].fillna(data['PayloadMass'].median(), inplace=True)\n",
        "\n",
        "# Fill missing PayloadMass with median\n",
        "data['Orbit'].fillna(data['Orbit'].mode().values[0], inplace=True)"
      ],
      "metadata": {
        "execution": {
          "iopub.status.busy": "2021-10-19T15:45:36.771478Z",
          "iopub.execute_input": "2021-10-19T15:45:36.773299Z",
          "iopub.status.idle": "2021-10-19T15:45:36.780263Z",
          "shell.execute_reply.started": "2021-10-19T15:45:36.773261Z",
          "shell.execute_reply": "2021-10-19T15:45:36.779551Z"
        },
        "trusted": true,
        "id": "vQmN1J25VmUs"
      },
      "execution_count": 6,
      "outputs": []
    },
    {
      "cell_type": "code",
      "source": [
        "# Fill missing Flights\n",
        "data.loc[data['Flights'].isnull(), 'Flights'] = data[data['Flights'].isnull()]\\\n",
        "    .apply(lambda x: 1 + data.loc[(data['Serial'] == x['Serial']) & (data['Date'] > x['Date'])].shape[0], axis=1)"
      ],
      "metadata": {
        "execution": {
          "iopub.status.busy": "2021-10-19T15:45:36.781215Z",
          "iopub.execute_input": "2021-10-19T15:45:36.781828Z",
          "iopub.status.idle": "2021-10-19T15:45:36.795049Z",
          "shell.execute_reply.started": "2021-10-19T15:45:36.781792Z",
          "shell.execute_reply": "2021-10-19T15:45:36.794396Z"
        },
        "trusted": true,
        "id": "w-F3_c2NVmUs"
      },
      "execution_count": 7,
      "outputs": []
    },
    {
      "cell_type": "markdown",
      "source": [
        "Certain variables such as `GridFins`, `Reused`, and `Legs` are of type boolean. We can then assume the missing values to be `False`. Similarily, we can assume the missing values in `ReusedCount` to be `0` when the corresponding `Reused` variable is set to `False` or also missing."
      ],
      "metadata": {
        "id": "RXKhrZheVmUt"
      }
    },
    {
      "cell_type": "code",
      "source": [
        "# Fill missing GridFins, Reused, and Legs with False\n",
        "data['GridFins'].fillna(False, inplace=True)\n",
        "data['Reused'].fillna(False, inplace=True)\n",
        "data['Legs'].fillna(False, inplace=True)\n",
        "\n",
        "# Fill missing ReusedCount with 0\n",
        "data['ReusedCount'].fillna(0, inplace=True)\n",
        "data['Block'].fillna(0, inplace=True)"
      ],
      "metadata": {
        "execution": {
          "iopub.status.busy": "2021-10-19T15:45:36.796519Z",
          "iopub.execute_input": "2021-10-19T15:45:36.797033Z",
          "iopub.status.idle": "2021-10-19T15:45:36.806026Z",
          "shell.execute_reply.started": "2021-10-19T15:45:36.796985Z",
          "shell.execute_reply": "2021-10-19T15:45:36.805108Z"
        },
        "trusted": true,
        "id": "dA0fVGdvVmUt"
      },
      "execution_count": 8,
      "outputs": []
    },
    {
      "cell_type": "markdown",
      "source": [
        "At last, `Serial` contains the serial number of the rockets. If the `Serial` is not provided, we could set its missing values to `unknown`."
      ],
      "metadata": {
        "id": "J7A76yT1VmUt"
      }
    },
    {
      "cell_type": "code",
      "source": [
        "# Fill missing Serial with 'unknown'\n",
        "data['Serial'].fillna('Unknown', inplace=True)"
      ],
      "metadata": {
        "execution": {
          "iopub.status.busy": "2021-10-19T15:45:36.807119Z",
          "iopub.execute_input": "2021-10-19T15:45:36.807342Z",
          "iopub.status.idle": "2021-10-19T15:45:36.819382Z",
          "shell.execute_reply.started": "2021-10-19T15:45:36.807317Z",
          "shell.execute_reply": "2021-10-19T15:45:36.818744Z"
        },
        "trusted": true,
        "id": "a7jzzrkbVmUt"
      },
      "execution_count": 9,
      "outputs": []
    },
    {
      "cell_type": "markdown",
      "source": [
        "At this point, only `LandingPad` contains missing values. However, the fact the missing values of this particular variable are meaningful as they imply there was not landing pad used during the launch.\n",
        "\n",
        "Before starting our EDA, we rename the values of the column `LandingPad` to make them more readable. We also replace the missing values with `NoLandingPad`."
      ],
      "metadata": {
        "id": "MSFg0wSUVmUu"
      }
    },
    {
      "cell_type": "code",
      "source": [
        "padno = 0\n",
        "for padid in data[\"LandingPad\"].unique():\n",
        "    if padid is not None:\n",
        "        data[\"LandingPad\"].replace(padid, f\"LandingPad_{padno}\", inplace=True)\n",
        "    else:\n",
        "        data[\"LandingPad\"].fillna(\"NoLandingPad\", inplace=True)\n",
        "    padno += 1\n",
        "\n",
        "del padno"
      ],
      "metadata": {
        "execution": {
          "iopub.status.busy": "2021-10-19T15:45:36.82183Z",
          "iopub.execute_input": "2021-10-19T15:45:36.822439Z",
          "iopub.status.idle": "2021-10-19T15:45:36.834327Z",
          "shell.execute_reply.started": "2021-10-19T15:45:36.822411Z",
          "shell.execute_reply": "2021-10-19T15:45:36.833634Z"
        },
        "trusted": true,
        "id": "k_zDTxm0VmUu"
      },
      "execution_count": 11,
      "outputs": []
    },
    {
      "cell_type": "markdown",
      "source": [
        "## Fixing data types\n",
        "We make sure each feature has the right data type"
      ],
      "metadata": {
        "id": "mTn0xwkFVmUu"
      }
    },
    {
      "cell_type": "code",
      "source": [
        "data[\"Date\"] = pd.to_datetime(data[\"Date\"])\n",
        "data[\"Flights\"] = data[\"Flights\"].astype(int)\n",
        "data[\"GridFins\"] = data[\"GridFins\"].astype(bool)\n",
        "data[\"Reused\"] = data[\"Reused\"].astype(bool)\n",
        "data[\"Legs\"] = data[\"Legs\"].astype(bool)\n",
        "data[\"Block\"] = data[\"Block\"].astype(int)\n",
        "data[\"ReusedCount\"] = data[\"ReusedCount\"].astype(int)"
      ],
      "metadata": {
        "execution": {
          "iopub.status.busy": "2021-10-19T15:45:36.83536Z",
          "iopub.execute_input": "2021-10-19T15:45:36.836033Z",
          "iopub.status.idle": "2021-10-19T15:45:36.849025Z",
          "shell.execute_reply.started": "2021-10-19T15:45:36.836005Z",
          "shell.execute_reply": "2021-10-19T15:45:36.84809Z"
        },
        "trusted": true,
        "id": "XwDdD6OUVmUv"
      },
      "execution_count": 13,
      "outputs": []
    },
    {
      "cell_type": "markdown",
      "source": [
        "## Save cleaned data\n",
        "At this stage, our data is clean. The numeric values (including `Date`) appears to be in the proper range and looking at the unique values of the categorical values, we did not identify any typos.\n",
        "\n",
        "We can then safely save the cleaned dataset to the disk."
      ],
      "metadata": {
        "id": "-tMuDXT-VmUv"
      }
    },
    {
      "cell_type": "code",
      "source": [
        "# data.to_pickle(\"data_clean_v1.pkl\")"
      ],
      "metadata": {
        "execution": {
          "iopub.status.busy": "2021-10-19T15:45:36.851773Z",
          "iopub.execute_input": "2021-10-19T15:45:36.852229Z",
          "iopub.status.idle": "2021-10-19T15:45:36.859572Z",
          "shell.execute_reply.started": "2021-10-19T15:45:36.852201Z",
          "shell.execute_reply": "2021-10-19T15:45:36.858873Z"
        },
        "trusted": true,
        "id": "c4cgfBY3VmUv"
      },
      "execution_count": null,
      "outputs": []
    },
    {
      "cell_type": "markdown",
      "source": [
        "# Exploratory Data Analysis & Features Selection <a class=\"anchor\"  id=\"eda\"></a>"
      ],
      "metadata": {
        "id": "FqTTfXltVmUv"
      }
    },
    {
      "cell_type": "code",
      "source": [
        "# Make a copy\n",
        "df = data.copy()"
      ],
      "metadata": {
        "execution": {
          "iopub.status.busy": "2021-10-19T15:45:36.860464Z",
          "iopub.execute_input": "2021-10-19T15:45:36.861017Z",
          "iopub.status.idle": "2021-10-19T15:45:36.874094Z",
          "shell.execute_reply.started": "2021-10-19T15:45:36.860986Z",
          "shell.execute_reply": "2021-10-19T15:45:36.873026Z"
        },
        "trusted": true,
        "id": "vUvZnZ7hVmUv"
      },
      "execution_count": 14,
      "outputs": []
    },
    {
      "cell_type": "code",
      "source": [
        "df.dtypes"
      ],
      "metadata": {
        "execution": {
          "iopub.status.busy": "2021-10-19T15:45:36.875713Z",
          "iopub.execute_input": "2021-10-19T15:45:36.875992Z",
          "iopub.status.idle": "2021-10-19T15:45:36.889491Z",
          "shell.execute_reply.started": "2021-10-19T15:45:36.875952Z",
          "shell.execute_reply": "2021-10-19T15:45:36.88864Z"
        },
        "trusted": true,
        "colab": {
          "base_uri": "https://localhost:8080/"
        },
        "id": "mObJPrRRVmUw",
        "outputId": "0fe0f2e1-4661-4848-ad6c-0c52c0ba06ae"
      },
      "execution_count": 15,
      "outputs": [
        {
          "output_type": "execute_result",
          "data": {
            "text/plain": [
              "FlightNumber               int64\n",
              "Date              datetime64[ns]\n",
              "BoosterVersion            object\n",
              "PayloadMass              float64\n",
              "Orbit                     object\n",
              "LaunchSite                object\n",
              "Outcome                   object\n",
              "Flights                    int64\n",
              "GridFins                    bool\n",
              "Reused                      bool\n",
              "Legs                        bool\n",
              "LandingPad                object\n",
              "Block                      int64\n",
              "ReusedCount                int64\n",
              "Serial                    object\n",
              "Longitude                float64\n",
              "Latitude                 float64\n",
              "Class                      int64\n",
              "dtype: object"
            ]
          },
          "metadata": {},
          "execution_count": 15
        }
      ]
    },
    {
      "cell_type": "markdown",
      "source": [
        "## Process Target Variable <a class=\"anchor\"  id=\"eda-target\"></a>"
      ],
      "metadata": {
        "id": "78C0yeKSVmUw"
      }
    },
    {
      "cell_type": "markdown",
      "source": [
        "The variable `Outcome` is composed of two parts. First, we have a boolean value (True or False) or 'None' that indicates if the launch was successful or not. The second part indicates where the first stage landed. For example `True Ocean` means the mission outcome was successfully  landed to a specific region of the ocean while <code>False Ocean</code> means the mission outcome was unsuccessfully landed to a specific region of the ocean. `None ASDS` and `None None` these represent a failure to land.\n",
        "\n",
        "We can then split `Outcome` into two columns `LandingOutcome` and `landingRegion`. We will be using the `landingOutcome` column as our target."
      ],
      "metadata": {
        "id": "w1lzleKdVmUw"
      }
    },
    {
      "cell_type": "code",
      "source": [
        "df[[\"LandingOutcome\", \"LandingRegion\"]] = df[\"Outcome\"].str.split(\" \", 1, expand=True)\n",
        "\n",
        "# We fill the null values in LandingPlace by 'Failed' signaling that the launch was a failure.\n",
        "# df[\"LandingRegion\"].replace(\"None\", \"Failed\", inplace=True)\n",
        "\n",
        "# Replace null values by False in LandingOutcome\n",
        "df[\"LandingOutcome\"].replace('None', 0, inplace=True)\n",
        "df[\"LandingOutcome\"].replace('False', 0, inplace=True)\n",
        "df[\"LandingOutcome\"].replace('True', 1, inplace=True)\n",
        "\n",
        "# While were are at it, we can set the successful launch to 1 and the unsuccessful to 0 from the boolean values\n",
        "df = df.astype({\"LandingOutcome\": int})"
      ],
      "metadata": {
        "execution": {
          "iopub.status.busy": "2021-10-19T15:45:36.890809Z",
          "iopub.execute_input": "2021-10-19T15:45:36.891725Z",
          "iopub.status.idle": "2021-10-19T15:45:36.909903Z",
          "shell.execute_reply.started": "2021-10-19T15:45:36.891694Z",
          "shell.execute_reply": "2021-10-19T15:45:36.908863Z"
        },
        "trusted": true,
        "id": "lB2UX3RyVmUx"
      },
      "execution_count": 16,
      "outputs": []
    },
    {
      "cell_type": "code",
      "source": [
        "# Drop old Outcome column\n",
        "df.drop(columns=[\"Outcome\"], axis=1, inplace=True)"
      ],
      "metadata": {
        "execution": {
          "iopub.status.busy": "2021-10-19T15:45:36.91114Z",
          "iopub.execute_input": "2021-10-19T15:45:36.911371Z",
          "iopub.status.idle": "2021-10-19T15:45:36.917444Z",
          "shell.execute_reply.started": "2021-10-19T15:45:36.911337Z",
          "shell.execute_reply": "2021-10-19T15:45:36.916664Z"
        },
        "trusted": true,
        "id": "C8QeNPx8VmUx"
      },
      "execution_count": 17,
      "outputs": []
    },
    {
      "cell_type": "code",
      "source": [
        "round(100 * df[\"LandingOutcome\"].value_counts() / df.shape[0], 2)"
      ],
      "metadata": {
        "execution": {
          "iopub.status.busy": "2021-10-19T15:45:36.918756Z",
          "iopub.execute_input": "2021-10-19T15:45:36.919095Z",
          "iopub.status.idle": "2021-10-19T15:45:36.933019Z",
          "shell.execute_reply.started": "2021-10-19T15:45:36.91906Z",
          "shell.execute_reply": "2021-10-19T15:45:36.932405Z"
        },
        "trusted": true,
        "colab": {
          "base_uri": "https://localhost:8080/"
        },
        "id": "QecBH2CLVmUy",
        "outputId": "9a7617ae-7d1a-4620-877b-50a05e73a315"
      },
      "execution_count": 18,
      "outputs": [
        {
          "output_type": "execute_result",
          "data": {
            "text/plain": [
              "1    66.67\n",
              "0    33.33\n",
              "Name: LandingOutcome, dtype: float64"
            ]
          },
          "metadata": {},
          "execution_count": 18
        }
      ]
    },
    {
      "cell_type": "markdown",
      "source": [
        "Our two classes `0` (Failure) and `1` (Success) are considerably imbalanced. Out of every rocket launch in the dataset, 73.11% were successful whereas 26.89% were unsuccsessful."
      ],
      "metadata": {
        "id": "uZKYdTxKVmUy"
      }
    },
    {
      "cell_type": "markdown",
      "source": [
        "## Features Selection <a class=\"anchor\"  id=\"fs\"></a>"
      ],
      "metadata": {
        "id": "YhRqnBVOVmUy"
      }
    },
    {
      "cell_type": "markdown",
      "source": [
        "### Helper functions"
      ],
      "metadata": {
        "id": "YZiQ4C6nVmUy"
      }
    },
    {
      "cell_type": "code",
      "source": [
        "from scipy.stats import chi2_contingency\n",
        "from scipy.stats import pearsonr"
      ],
      "metadata": {
        "execution": {
          "iopub.status.busy": "2021-10-19T15:45:36.934063Z",
          "iopub.execute_input": "2021-10-19T15:45:36.934278Z",
          "iopub.status.idle": "2021-10-19T15:45:36.943939Z",
          "shell.execute_reply.started": "2021-10-19T15:45:36.934254Z",
          "shell.execute_reply": "2021-10-19T15:45:36.943112Z"
        },
        "trusted": true,
        "id": "g2WyY5J5VmUz"
      },
      "execution_count": 19,
      "outputs": []
    },
    {
      "cell_type": "code",
      "source": [
        "# Apply Chi Squared test then plot the p-values on a heatmap\n",
        "def plot_chisquare_heatmap(df, target, column_names, figsize=(8,6)):\n",
        "    column_names.append(target)\n",
        "    n_cols = len(column_names)\n",
        "    chisq_df = pd.DataFrame(np.zeros((n_cols,n_cols)), columns=column_names, index=column_names)\n",
        "    i = 0\n",
        "    j = 0\n",
        "    \n",
        "    for icol in column_names:\n",
        "        for jcol in column_names:\n",
        "            # Build contigency table\n",
        "            contigency_tab = pd.crosstab(df[icol], df[jcol])\n",
        "            \n",
        "            # Get p-value and other stats\n",
        "            c, p, dof, expected = chi2_contingency(contigency_tab)\n",
        "            \n",
        "            # We round very low p-values to 0 and add the p-values to the chisq_matrix\n",
        "            chisq_df.iloc[i,j] = round(p, 5)\n",
        "            \n",
        "            # A condition to use Chi Square is that the expected frequencies should be at \n",
        "            # least 5 for the majority (80%) of the cells\n",
        "            \n",
        "            # Get % of cells with frequency of at least 5\n",
        "            expected_percent = 100 * expected[expected >= 5].size / expected.size\n",
        "            \n",
        "            #if icol == jcol:\n",
        "            #    chisq_df.iloc[i,j] = 0.0\n",
        "            \n",
        "            # If the expected frequency is less than 5 for the (20%), we ignore the p-value\n",
        "            # between the two variables. We will then keep the two variables.\n",
        "            # We set the p-value to 2 in order to better visualize this case\n",
        "            if expected_percent < 20:\n",
        "                chisq_df.iloc[i,j] = 2\n",
        "            else:\n",
        "                chisq_df.iloc[i,j] = round(p, 5)\n",
        "            \n",
        "            j += 1\n",
        "            \n",
        "        i += 1\n",
        "        j = 0\n",
        "    \n",
        "    _, ax = plt.subplots(figsize=figsize)\n",
        "    sns.heatmap(chisq_df, annot=True, ax=ax)\n",
        "    #ax.set_xticklabels(labels=cols, rotation=90)\n",
        "    #ax.set_yticklabels(labels=cols, rotation=0)\n",
        "    ax.set_title(\"Chi Squared p-values\", fontsize=14)\n",
        "    plt.show()\n"
      ],
      "metadata": {
        "execution": {
          "iopub.status.busy": "2021-10-19T15:45:36.945324Z",
          "iopub.execute_input": "2021-10-19T15:45:36.945645Z",
          "iopub.status.idle": "2021-10-19T15:45:36.95806Z",
          "shell.execute_reply.started": "2021-10-19T15:45:36.945616Z",
          "shell.execute_reply": "2021-10-19T15:45:36.957099Z"
        },
        "trusted": true,
        "id": "kShnjm39VmUz"
      },
      "execution_count": 20,
      "outputs": []
    },
    {
      "cell_type": "code",
      "source": [
        "# Compute the correlation between variables and the statistical significance of that correlation\n",
        "# then plot the correlation coefficient and p-values on a heatmap\n",
        "def plot_corr_pvalue(df, column_names, figsize=(11, 4)):\n",
        "    ncols = len(column_names)\n",
        "    corr_matrix = pd.DataFrame(np.zeros((ncols, ncols)), columns=column_names, index=column_names)\n",
        "    pvalue_matrix = pd.DataFrame(np.zeros((ncols, ncols)), columns=column_names, index=column_names)\n",
        "    i = 0\n",
        "    j = 0\n",
        "    \n",
        "    for icol in column_names:\n",
        "        for jcol in column_names:\n",
        "            # Compute correlation coefficient and p-value\n",
        "            corr, p = pearsonr(df[icol], df[jcol])\n",
        "            \n",
        "            corr_matrix.iloc[i,j] = round(corr, 5)\n",
        "            \n",
        "            # We round very low p-values to 0\n",
        "            pvalue_matrix.iloc[i,j] = round(p, 5)\n",
        "            j += 1\n",
        "            \n",
        "        j = 0\n",
        "        i += 1\n",
        "    \n",
        "    _, ax = plt.subplots(figsize=figsize, ncols=2, nrows=1)\n",
        "    # Plot correlation matrix\n",
        "    sns.heatmap(corr_matrix, annot=True, ax=ax[0])\n",
        "    ax[0].set_title(\"Correlation Matrix\", fontsize=14)\n",
        "    ax[0].set_xticklabels(column_names, rotation=90)\n",
        "    ax[0].set_yticklabels(column_names, rotation=0)\n",
        "    \n",
        "    # Plot p-values matrix\n",
        "    sns.heatmap(pvalue_matrix, annot=True, ax=ax[1])\n",
        "    ax[1].set_title(\"p-values Matrix\", fontsize=14)\n",
        "    ax[1].set_xticklabels(column_names, rotation=90)\n",
        "    ax[1].set_yticklabels(column_names, rotation=0)\n",
        "    plt.show()\n"
      ],
      "metadata": {
        "execution": {
          "iopub.status.busy": "2021-10-19T15:45:36.959471Z",
          "iopub.execute_input": "2021-10-19T15:45:36.959854Z",
          "iopub.status.idle": "2021-10-19T15:45:36.974488Z",
          "shell.execute_reply.started": "2021-10-19T15:45:36.959825Z",
          "shell.execute_reply": "2021-10-19T15:45:36.973737Z"
        },
        "trusted": true,
        "id": "zD1277BMVmU0"
      },
      "execution_count": 21,
      "outputs": []
    },
    {
      "cell_type": "code",
      "source": [
        "def plot_barchart(df, columns, figsize=(18, 4)):\n",
        "    ncols = len(columns)\n",
        "    _, axes = plt.subplots(figsize=figsize, ncols=ncols, nrows=1)\n",
        "    for i in range(len(columns)):\n",
        "        axes[i].set_title(f\"Landing Success Rate\", fontsize=14)\n",
        "        sns.barplot(x=df.groupby(columns[i]).apply(lambda x: str(x.name)),\n",
        "                    y=\"LandingOutcome\",\n",
        "                    data=round(100 * df.groupby(columns[i]).mean(), 2), ax=axes[i])\n",
        "        axes[i].set_xlabel(columns[i])\n",
        "        axes[i].set_ylabel(\"Success Rate (%)\")\n",
        "        \n",
        "        if columns[i] == \"LandingPad\":\n",
        "            axes[i].set_xticklabels(axes[i].xaxis.get_ticklabels(), rotation=90)\n",
        "        \n",
        "    plt.show()"
      ],
      "metadata": {
        "execution": {
          "iopub.status.busy": "2021-10-19T15:45:36.97561Z",
          "iopub.execute_input": "2021-10-19T15:45:36.975993Z",
          "iopub.status.idle": "2021-10-19T15:45:36.990049Z",
          "shell.execute_reply.started": "2021-10-19T15:45:36.975966Z",
          "shell.execute_reply": "2021-10-19T15:45:36.98911Z"
        },
        "trusted": true,
        "id": "Ur3ulrr_VmU0"
      },
      "execution_count": 22,
      "outputs": []
    },
    {
      "cell_type": "code",
      "source": [
        "def plot_kde(df, column_names, target, ncols=2):\n",
        "    nrows = int(np.ceil(len(column_names) / ncols))\n",
        "    _, ax = plt.subplots(figsize=(5.5 * ncols * 1.1, 3 * nrows * 1.3), ncols=ncols, nrows=nrows)\n",
        "    for i in range(len(column_names)):\n",
        "        sns.kdeplot(data=df, x=column_names[i], hue=target, alpha=0.9, ax=ax[i//ncols][i%ncols])\n",
        "    plt.show()"
      ],
      "metadata": {
        "execution": {
          "iopub.status.busy": "2021-10-19T15:45:36.991213Z",
          "iopub.execute_input": "2021-10-19T15:45:36.991456Z",
          "iopub.status.idle": "2021-10-19T15:45:37.006919Z",
          "shell.execute_reply.started": "2021-10-19T15:45:36.991428Z",
          "shell.execute_reply": "2021-10-19T15:45:37.005935Z"
        },
        "trusted": true,
        "id": "ps-uHiBKVmU0"
      },
      "execution_count": 23,
      "outputs": []
    },
    {
      "cell_type": "markdown",
      "source": [
        "### Create New Variables and Drop Obsolete/Redundant Variables <a class=\"anchor\"  id=\"fs-drop-columns\"></a>\n",
        "Some of the variables of our datasets are redundant or not useful. First, `FlightNumber` is used as an ID for each of the flights. Therefore, it does not hold much values for our classification problem. Similarily, `BoosterVersion` only has one single possible values (Falcon 9). At last, `Longitude` and `Latitude` are coordonates of each `LauchSite`. The pair of geo coordinates could be substituted by the corresponding `LaunchSite`."
      ],
      "metadata": {
        "id": "y7gIisy5VmU0"
      }
    },
    {
      "cell_type": "markdown",
      "source": [
        "From the `Date` column, we can extract the `Year`."
      ],
      "metadata": {
        "id": "Cmuh43DnVmU1"
      }
    },
    {
      "cell_type": "code",
      "source": [
        "df[\"Year\"] = df[\"Date\"].dt.year"
      ],
      "metadata": {
        "execution": {
          "iopub.status.busy": "2021-10-19T15:45:37.008123Z",
          "iopub.execute_input": "2021-10-19T15:45:37.008723Z",
          "iopub.status.idle": "2021-10-19T15:45:37.022328Z",
          "shell.execute_reply.started": "2021-10-19T15:45:37.00869Z",
          "shell.execute_reply": "2021-10-19T15:45:37.021355Z"
        },
        "trusted": true,
        "id": "8DttwT4CVmU1"
      },
      "execution_count": 24,
      "outputs": []
    },
    {
      "cell_type": "code",
      "source": [
        "df.drop(columns=[\"Date\", \"FlightNumber\", \"BoosterVersion\", \"Longitude\", \"Latitude\"], inplace=True)"
      ],
      "metadata": {
        "execution": {
          "iopub.status.busy": "2021-10-19T15:45:37.023849Z",
          "iopub.execute_input": "2021-10-19T15:45:37.024726Z",
          "iopub.status.idle": "2021-10-19T15:45:37.033593Z",
          "shell.execute_reply.started": "2021-10-19T15:45:37.024677Z",
          "shell.execute_reply": "2021-10-19T15:45:37.032917Z"
        },
        "trusted": true,
        "id": "KcP2ePd7VmU1"
      },
      "execution_count": 25,
      "outputs": []
    },
    {
      "cell_type": "markdown",
      "source": [
        "### Categorical Variables <a class=\"anchor\"  id=\"fs-categorical\"></a>"
      ],
      "metadata": {
        "id": "MjMvzp6NVmU1"
      }
    },
    {
      "cell_type": "markdown",
      "source": [
        "We start with the categorical features. As we are dealing with a classification problem with multiple categorical features, it appropriate to use the Chi Square method for feature selection. \n",
        "\n",
        "We use the function `plot_chisquare_heatmap` to produce a heatmap of p-values obtain by applying Chi Square on our categorical features and target. A p-value lower than 0.05 in this case indicate that there exists a relationship between two variables. Otherwise, the two variables are considered independent.\n",
        "\n",
        "One of the condition to use Chi Squared is that the expected frequencies should be at least 5 for the majority (80%) of the cells. When this condition is not satisfied, `plot_chisquare_heatmap` sets the p-value to `2` thus indicating that the two variables could be used."
      ],
      "metadata": {
        "id": "jL3OWNVjVmU1"
      }
    },
    {
      "cell_type": "code",
      "source": [
        "# Group categorical features in a list\n",
        "categorical_cols = [\"Orbit\", \"LaunchSite\", \"LandingPad\", \"Serial\", \"LandingRegion\"]\n",
        "\n",
        "# Plot heatmap of p-values\n",
        "plot_chisquare_heatmap(df, column_names=categorical_cols, target=\"LandingOutcome\")"
      ],
      "metadata": {
        "execution": {
          "iopub.status.busy": "2021-10-19T15:45:37.036448Z",
          "iopub.execute_input": "2021-10-19T15:45:37.036765Z",
          "iopub.status.idle": "2021-10-19T15:45:37.866222Z",
          "shell.execute_reply.started": "2021-10-19T15:45:37.036735Z",
          "shell.execute_reply": "2021-10-19T15:45:37.864831Z"
        },
        "trusted": true,
        "colab": {
          "base_uri": "https://localhost:8080/",
          "height": 0
        },
        "id": "n7AYYyhHVmU2",
        "outputId": "be878b03-da70-4679-b0f9-2470b5fa81bf"
      },
      "execution_count": 26,
      "outputs": [
        {
          "output_type": "display_data",
          "data": {
            "text/plain": [
              "<Figure size 576x432 with 2 Axes>"
            ],
            "image/png": "[encoded data removed]"
          },
          "metadata": {}
        }
      ]
    },
    {
      "cell_type": "markdown",
      "source": [
        "From the above heatmap we see that `Serial` do not satisfy the condition of a Chi Square test. Moreover, `Serial` is a used to uniquely identify a given rocket. As our goal is to predict the success of any rocket launch based on certain features, this information could be irrelevant. We can then remove those three columns from our features set.\n",
        "\n",
        "Next, `Orbit` and `LaunchSite` have a p-value of 0.17 and 0.21 respectively when evaluated against the target. These two variables are also not independent from each other as shown in the Chi Squared p-values table.\n",
        "\n",
        "`LauchSite` also has a relationship with `LandingPad`. As the later has a stronger relationship with the target variable, we can drop `LaunchSite` from our features set.\n",
        "\n",
        "There appears to be a strong relationship between `LandingPad` and `LandingRegion`. As the two variables are not independent, we could drop one of them. \n",
        "\n",
        "Let's visualize how the launches success rate varies with different values of `LandingPad`, `LandingRegion`, and `Orbit`."
      ],
      "metadata": {
        "id": "p6U3tcuAVmU2"
      }
    },
    {
      "cell_type": "code",
      "source": [
        "plot_barchart(df, columns=[\"Orbit\", \"LandingPad\", \"LandingRegion\"])"
      ],
      "metadata": {
        "execution": {
          "iopub.status.busy": "2021-10-19T15:45:37.867344Z",
          "iopub.execute_input": "2021-10-19T15:45:37.867571Z",
          "iopub.status.idle": "2021-10-19T15:45:38.434726Z",
          "shell.execute_reply.started": "2021-10-19T15:45:37.867535Z",
          "shell.execute_reply": "2021-10-19T15:45:38.434055Z"
        },
        "trusted": true,
        "colab": {
          "base_uri": "https://localhost:8080/",
          "height": 0
        },
        "id": "EBtwlgNaVmU2",
        "outputId": "469dcf54-5f5f-43a1-e997-5098a6e23b35"
      },
      "execution_count": 27,
      "outputs": [
        {
          "output_type": "display_data",
          "data": {
            "text/plain": [
              "<Figure size 1296x288 with 3 Axes>"
            ],
            "image/png": "[encoded data removed]"
          },
          "metadata": {}
        }
      ]
    },
    {
      "cell_type": "markdown",
      "source": [
        "The bar charts above show some variations in the success rate of rocket landings with different variables. \n",
        "\n",
        "The lauches have a higher success rate when launched in certain `Orbit` than others. For example, ES-L1, GEO, HEO, and SSO have a 100% success rate while SO is at 0%.\n",
        "\n",
        "Similarily to `Orbit`, the different `LandingRegion` also lead to different success rates. RTLS has the highest success rate while landing on the Ocean is less efficient.\n",
        "\n",
        "On the other hand, there does  not appears to be much difference in the success rate of different `LandingPad`. Beside using `LandingPad_1` and no landing pad, all the other possibilities lead to similar success rates."
      ],
      "metadata": {
        "id": "PObGET3OVmU2"
      }
    },
    {
      "cell_type": "code",
      "source": [
        "pd.crosstab(df[\"LandingPad\"], df[\"LandingRegion\"])"
      ],
      "metadata": {
        "execution": {
          "iopub.status.busy": "2021-10-19T15:45:38.435716Z",
          "iopub.execute_input": "2021-10-19T15:45:38.436264Z",
          "iopub.status.idle": "2021-10-19T15:45:38.455288Z",
          "shell.execute_reply.started": "2021-10-19T15:45:38.436235Z",
          "shell.execute_reply": "2021-10-19T15:45:38.454733Z"
        },
        "trusted": true,
        "colab": {
          "base_uri": "https://localhost:8080/",
          "height": 0
        },
        "id": "aRZYR-a7VmU2",
        "outputId": "acb27649-b781-4fb3-d483-6970c0c1b1cd"
      },
      "execution_count": 28,
      "outputs": [
        {
          "output_type": "execute_result",
          "data": {
            "text/plain": [
              "LandingRegion  ASDS  None  Ocean  RTLS\n",
              "LandingPad                            \n",
              "LandingPad_0      0    19      7     0\n",
              "LandingPad_1      2     0      0     0\n",
              "LandingPad_2     35     0      0     0\n",
              "LandingPad_3      0     0      0    13\n",
              "LandingPad_4     12     0      0     0\n",
              "LandingPad_5      0     0      0     2"
            ],
            "text/html": [
              "\n",
              "  <div id=\"df-babae643-f2b3-4d3d-886b-f32d734c1151\">\n",
              "    <div class=\"colab-df-container\">\n",
              "      <div>\n",
              "<style scoped>\n",
              "    .dataframe tbody tr th:only-of-type {\n",
              "        vertical-align: middle;\n",
              "    }\n",
              "\n",
              "    .dataframe tbody tr th {\n",
              "        vertical-align: top;\n",
              "    }\n",
              "\n",
              "    .dataframe thead th {\n",
              "        text-align: right;\n",
              "    }\n",
              "</style>\n",
              "<table border=\"1\" class=\"dataframe\">\n",
              "  <thead>\n",
              "    <tr style=\"text-align: right;\">\n",
              "      <th>LandingRegion</th>\n",
              "      <th>ASDS</th>\n",
              "      <th>None</th>\n",
              "      <th>Ocean</th>\n",
              "      <th>RTLS</th>\n",
              "    </tr>\n",
              "    <tr>\n",
              "      <th>LandingPad</th>\n",
              "      <th></th>\n",
              "      <th></th>\n",
              "      <th></th>\n",
              "      <th></th>\n",
              "    </tr>\n",
              "  </thead>\n",
              "  <tbody>\n",
              "    <tr>\n",
              "      <th>LandingPad_0</th>\n",
              "      <td>0</td>\n",
              "      <td>19</td>\n",
              "      <td>7</td>\n",
              "      <td>0</td>\n",
              "    </tr>\n",
              "    <tr>\n",
              "      <th>LandingPad_1</th>\n",
              "      <td>2</td>\n",
              "      <td>0</td>\n",
              "      <td>0</td>\n",
              "      <td>0</td>\n",
              "    </tr>\n",
              "    <tr>\n",
              "      <th>LandingPad_2</th>\n",
              "      <td>35</td>\n",
              "      <td>0</td>\n",
              "      <td>0</td>\n",
              "      <td>0</td>\n",
              "    </tr>\n",
              "    <tr>\n",
              "      <th>LandingPad_3</th>\n",
              "      <td>0</td>\n",
              "      <td>0</td>\n",
              "      <td>0</td>\n",
              "      <td>13</td>\n",
              "    </tr>\n",
              "    <tr>\n",
              "      <th>LandingPad_4</th>\n",
              "      <td>12</td>\n",
              "      <td>0</td>\n",
              "      <td>0</td>\n",
              "      <td>0</td>\n",
              "    </tr>\n",
              "    <tr>\n",
              "      <th>LandingPad_5</th>\n",
              "      <td>0</td>\n",
              "      <td>0</td>\n",
              "      <td>0</td>\n",
              "      <td>2</td>\n",
              "    </tr>\n",
              "  </tbody>\n",
              "</table>\n",
              "</div>\n",
              "      <button class=\"colab-df-convert\" onclick=\"convertToInteractive('df-babae643-f2b3-4d3d-886b-f32d734c1151')\"\n",
              "              title=\"Convert this dataframe to an interactive table.\"\n",
              "              style=\"display:none;\">\n",
              "        \n",
              "  <svg xmlns=\"http://www.w3.org/2000/svg\" height=\"24px\"viewBox=\"0 0 24 24\"\n",
              "       width=\"24px\">\n",
              "    <path d=\"M0 0h24v24H0V0z\" fill=\"none\"/>\n",
              "    <path d=\"M18.56 5.44l.94 2.06.94-2.06 2.06-.94-2.06-.94-.94-2.06-.94 2.06-2.06.94zm-11 1L8.5 8.5l.94-2.06 2.06-.94-2.06-.94L8.5 2.5l-.94 2.06-2.06.94zm10 10l.94 2.06.94-2.06 2.06-.94-2.06-.94-.94-2.06-.94 2.06-2.06.94z\"/><path d=\"M17.41 7.96l-1.37-1.37c-.4-.4-.92-.59-1.43-.59-.52 0-1.04.2-1.43.59L10.3 9.45l-7.72 7.72c-.78.78-.78 2.05 0 2.83L4 21.41c.39.39.9.59 1.41.59.51 0 1.02-.2 1.41-.59l7.78-7.78 2.81-2.81c.8-.78.8-2.07 0-2.86zM5.41 20L4 18.59l7.72-7.72 1.47 1.35L5.41 20z\"/>\n",
              "  </svg>\n",
              "      </button>\n",
              "      \n",
              "  <style>\n",
              "    .colab-df-container {\n",
              "      display:flex;\n",
              "      flex-wrap:wrap;\n",
              "      gap: 12px;\n",
              "    }\n",
              "\n",
              "    .colab-df-convert {\n",
              "      background-color: #E8F0FE;\n",
              "      border: none;\n",
              "      border-radius: 50%;\n",
              "      cursor: pointer;\n",
              "      display: none;\n",
              "      fill: #1967D2;\n",
              "      height: 32px;\n",
              "      padding: 0 0 0 0;\n",
              "      width: 32px;\n",
              "    }\n",
              "\n",
              "    .colab-df-convert:hover {\n",
              "      background-color: #E2EBFA;\n",
              "      box-shadow: 0px 1px 2px rgba(60, 64, 67, 0.3), 0px 1px 3px 1px rgba(60, 64, 67, 0.15);\n",
              "      fill: #174EA6;\n",
              "    }\n",
              "\n",
              "    [theme=dark] .colab-df-convert {\n",
              "      background-color: #3B4455;\n",
              "      fill: #D2E3FC;\n",
              "    }\n",
              "\n",
              "    [theme=dark] .colab-df-convert:hover {\n",
              "      background-color: #434B5C;\n",
              "      box-shadow: 0px 1px 3px 1px rgba(0, 0, 0, 0.15);\n",
              "      filter: drop-shadow(0px 1px 2px rgba(0, 0, 0, 0.3));\n",
              "      fill: #FFFFFF;\n",
              "    }\n",
              "  </style>\n",
              "\n",
              "      <script>\n",
              "        const buttonEl =\n",
              "          document.querySelector('#df-babae643-f2b3-4d3d-886b-f32d734c1151 button.colab-df-convert');\n",
              "        buttonEl.style.display =\n",
              "          google.colab.kernel.accessAllowed ? 'block' : 'none';\n",
              "\n",
              "        async function convertToInteractive(key) {\n",
              "          const element = document.querySelector('#df-babae643-f2b3-4d3d-886b-f32d734c1151');\n",
              "          const dataTable =\n",
              "            await google.colab.kernel.invokeFunction('convertToInteractive',\n",
              "                                                     [key], {});\n",
              "          if (!dataTable) return;\n",
              "\n",
              "          const docLinkHtml = 'Like what you see? Visit the ' +\n",
              "            '<a target=\"_blank\" href=https://colab.research.google.com/notebooks/data_table.ipynb>data table notebook</a>'\n",
              "            + ' to learn more about interactive tables.';\n",
              "          element.innerHTML = '';\n",
              "          dataTable['output_type'] = 'display_data';\n",
              "          await google.colab.output.renderOutput(dataTable, element);\n",
              "          const docLink = document.createElement('div');\n",
              "          docLink.innerHTML = docLinkHtml;\n",
              "          element.appendChild(docLink);\n",
              "        }\n",
              "      </script>\n",
              "    </div>\n",
              "  </div>\n",
              "  "
            ]
          },
          "metadata": {},
          "execution_count": 28
        }
      ]
    },
    {
      "cell_type": "markdown",
      "source": [
        "As noted earlier in the Chi Squared p-values matrix, there seem to be a strong relationship between `LandingPad` and `LandingRegion`. The contigency table above shows that each landing pad is associated with only one single `LandingRegion`. Not using a landing pas (NoLandingPad) either lead to a failure to launch or a landing on the ocean. Considering this information additional information, we can discard `LandingPad` from the features set and only consider `LandingRegion`."
      ],
      "metadata": {
        "id": "qMbP9aPYVmU3"
      }
    },
    {
      "cell_type": "code",
      "source": [
        "df.drop(columns=[\"Serial\", \"LaunchSite\", \"LandingPad\"], inplace=True)"
      ],
      "metadata": {
        "execution": {
          "iopub.status.busy": "2021-10-19T15:45:38.458817Z",
          "iopub.execute_input": "2021-10-19T15:45:38.459299Z",
          "iopub.status.idle": "2021-10-19T15:45:38.46374Z",
          "shell.execute_reply.started": "2021-10-19T15:45:38.459269Z",
          "shell.execute_reply": "2021-10-19T15:45:38.463109Z"
        },
        "trusted": true,
        "id": "YNr0ph6TVmU3"
      },
      "execution_count": 29,
      "outputs": []
    },
    {
      "cell_type": "markdown",
      "source": [
        "### Boolean Variables <a class=\"anchor\"  id=\"fs-boolean\"></a>\n",
        "We have in total 3 variables of type Boolean: `GridFins`, `Reused`, and `Legs`. We can visualize the relationship between these variables and the target using a bar chart."
      ],
      "metadata": {
        "id": "KN0Gg3zDVmU3"
      }
    },
    {
      "cell_type": "code",
      "source": [
        "boolean_cols = [\"GridFins\", \"Legs\", \"Reused\"]\n",
        "# Plot correlation and p-values matrices\n",
        "plot_corr_pvalue(df, boolean_cols + [\"LandingOutcome\"], figsize=(14.5, 5))"
      ],
      "metadata": {
        "execution": {
          "iopub.status.busy": "2021-10-19T15:45:38.465015Z",
          "iopub.execute_input": "2021-10-19T15:45:38.465421Z",
          "iopub.status.idle": "2021-10-19T15:45:39.136208Z",
          "shell.execute_reply.started": "2021-10-19T15:45:38.465394Z",
          "shell.execute_reply": "2021-10-19T15:45:39.135299Z"
        },
        "trusted": true,
        "colab": {
          "base_uri": "https://localhost:8080/",
          "height": 0
        },
        "id": "4BV0EpTPVmU3",
        "outputId": "7cf5db56-8799-472a-8511-7d0bf51b7b39"
      },
      "execution_count": 30,
      "outputs": [
        {
          "output_type": "display_data",
          "data": {
            "text/plain": [
              "<Figure size 1044x360 with 4 Axes>"
            ],
            "image/png": "[encoded data removed]"
          },
          "metadata": {}
        }
      ]
    },
    {
      "cell_type": "markdown",
      "source": [
        "Here, we can observe that all three of our boolean variables have a relationship with `LandingOutcome`. We use a correlation matrix have a better sense on the strengh of the relationships.\n",
        "\n",
        "The correlation matrix above shows that the variables `GridFins` and `Legs` are highly correlated (91%). As `Legs` shows the largest difference in the success rate and strongest correlation to `LandingOutcome`, we will ignore `GridFins`."
      ],
      "metadata": {
        "id": "a7PPKsQLVmU4"
      }
    },
    {
      "cell_type": "code",
      "source": [
        "df.drop(columns=[\"GridFins\"], inplace=True)"
      ],
      "metadata": {
        "execution": {
          "iopub.status.busy": "2021-10-19T15:45:39.137356Z",
          "iopub.execute_input": "2021-10-19T15:45:39.137623Z",
          "iopub.status.idle": "2021-10-19T15:45:39.142767Z",
          "shell.execute_reply.started": "2021-10-19T15:45:39.137592Z",
          "shell.execute_reply": "2021-10-19T15:45:39.142142Z"
        },
        "trusted": true,
        "id": "dmZBIsYpVmU4"
      },
      "execution_count": 31,
      "outputs": []
    },
    {
      "cell_type": "markdown",
      "source": [
        "The variable `Reused` has a weak correlation with the target. However, we can notice that `Reused` and `ReusedCount` are linked. As `ReusedCount` provides more information--and not just `True` or `False`--it could be a stronger feature. "
      ],
      "metadata": {
        "id": "1Tr9Cr8iVmU4"
      }
    },
    {
      "cell_type": "code",
      "source": [
        "plot_barchart(df, columns=[\"Reused\", \"ReusedCount\"], figsize=(12, 4))"
      ],
      "metadata": {
        "execution": {
          "iopub.status.busy": "2021-10-19T15:45:39.143628Z",
          "iopub.execute_input": "2021-10-19T15:45:39.144252Z",
          "iopub.status.idle": "2021-10-19T15:45:39.507176Z",
          "shell.execute_reply.started": "2021-10-19T15:45:39.144219Z",
          "shell.execute_reply": "2021-10-19T15:45:39.506084Z"
        },
        "trusted": true,
        "colab": {
          "base_uri": "https://localhost:8080/",
          "height": 0
        },
        "id": "5X_CXBc0VmU4",
        "outputId": "84c57a27-376b-45e1-b3e9-e4868d6108d7"
      },
      "execution_count": 32,
      "outputs": [
        {
          "output_type": "display_data",
          "data": {
            "text/plain": [
              "<Figure size 864x288 with 2 Axes>"
            ],
            "image/png": "[encoded data removed]"
          },
          "metadata": {}
        }
      ]
    },
    {
      "cell_type": "markdown",
      "source": [
        "The bar plot above shows the success rate of the first stage landing based on how many time it has been reused. The difference in the success rate does not appear to be significant especially when we consider that when a rocket fail launch or land, it it destroyed. The first stage is only reusable until it is destroy. Our goal is to predict if the outcome of le landing will be positive thus indicating that the first stage could be reused in the futur. Therefore, we can drop both `Reused` and `ReusedCount` from the features set."
      ],
      "metadata": {
        "id": "Dqz8TCH9VmU4"
      }
    },
    {
      "cell_type": "code",
      "source": [
        "df.drop(columns=[\"Reused\", \"ReusedCount\"], inplace=True)"
      ],
      "metadata": {
        "execution": {
          "iopub.status.busy": "2021-10-19T15:45:39.508604Z",
          "iopub.execute_input": "2021-10-19T15:45:39.5095Z",
          "iopub.status.idle": "2021-10-19T15:45:39.51557Z",
          "shell.execute_reply.started": "2021-10-19T15:45:39.509455Z",
          "shell.execute_reply": "2021-10-19T15:45:39.514648Z"
        },
        "trusted": true,
        "id": "01YS8VqtVmU4"
      },
      "execution_count": 33,
      "outputs": []
    },
    {
      "cell_type": "markdown",
      "source": [
        "### Numeric Variables <a class=\"anchor\"  id=\"fs-numeric\"></a>\n",
        "We are left with 4 numeric variables to consider: `PayloadMass`, `Flights`, `Block`, and `ReusedCount`."
      ],
      "metadata": {
        "id": "F8fZJ-CuVmU5"
      }
    },
    {
      "cell_type": "code",
      "source": [
        "numeric_cols = [\"Year\", \"PayloadMass\", \"Flights\", \"Block\"]\n",
        "# Plot correlation and p-values matrices\n",
        "plot_corr_pvalue(df, numeric_cols + [\"LandingOutcome\"], figsize=(16.5, 5.2))"
      ],
      "metadata": {
        "execution": {
          "iopub.status.busy": "2021-10-19T15:45:39.516665Z",
          "iopub.execute_input": "2021-10-19T15:45:39.517231Z",
          "iopub.status.idle": "2021-10-19T15:45:40.33066Z",
          "shell.execute_reply.started": "2021-10-19T15:45:39.517198Z",
          "shell.execute_reply": "2021-10-19T15:45:40.32967Z"
        },
        "trusted": true,
        "colab": {
          "base_uri": "https://localhost:8080/",
          "height": 0
        },
        "id": "22BsvGhmVmU5",
        "outputId": "9bf729e5-c1eb-49be-8c09-b8671f3154d7"
      },
      "execution_count": 34,
      "outputs": [
        {
          "output_type": "display_data",
          "data": {
            "text/plain": [
              "<Figure size 1188x374.4 with 4 Axes>"
            ],
            "image/png": "[encoded data removed]"
          },
          "metadata": {}
        }
      ]
    },
    {
      "cell_type": "code",
      "source": [
        "plot_kde(df, numeric_cols, target=\"LandingOutcome\", ncols=2)"
      ],
      "metadata": {
        "execution": {
          "iopub.status.busy": "2021-10-19T15:45:40.331947Z",
          "iopub.execute_input": "2021-10-19T15:45:40.332199Z",
          "iopub.status.idle": "2021-10-19T15:45:41.459853Z",
          "shell.execute_reply.started": "2021-10-19T15:45:40.332171Z",
          "shell.execute_reply": "2021-10-19T15:45:41.458927Z"
        },
        "trusted": true,
        "colab": {
          "base_uri": "https://localhost:8080/",
          "height": 0
        },
        "id": "JaxoPAPfVmU5",
        "outputId": "d3d1838d-2aea-467c-bcc7-b3989127b7e4"
      },
      "execution_count": 35,
      "outputs": [
        {
          "output_type": "display_data",
          "data": {
            "text/plain": [
              "<Figure size 871.2x561.6 with 4 Axes>"
            ],
            "image/png": "[encoded data removed]"
          },
          "metadata": {}
        }
      ]
    },
    {
      "cell_type": "markdown",
      "source": [
        "`Year` and `Block` are correlated to each other with a coefficient of 0.85. This suggests a colinearity between the two variables, thus we should drop one.\n",
        "\n",
        "Looking at the density plot above, we can see that the success rate of the first stage landings grows by the years. However, the year alone as a value would not have much impact on the success rate. We can assume that the higher success rate in the most recent years is due not by the year itself but rather some newer techniques or features added to the rockets and/or landing procedures. For this reason, `Block` would be a better feature to use in our classification problem.\n",
        "\n",
        "`PayloadMass` and `Flights` have the lowest correlation coefficients thus suggesting that they do not have a considerable influence on the `LandingOutcome`. The associated density plots also support this observation. We could remove these two `PayloadMass` and `Flights` from the features set."
      ],
      "metadata": {
        "id": "Z6ZSjCLCVmU5"
      }
    },
    {
      "cell_type": "markdown",
      "source": [
        "#### Group PayloadMass\n",
        "\n",
        "Based on the informations found on [Wikipedia](https://en.wikipedia.org/wiki/Small-lift_launch_vehicle#See_also), we can group the `PayloadMass` into four groups: Small-Lift (less than 2,000), Medium-Lift (2,000-20,000), Heavy-Lift (20,000-50,000), and Super-Lift (over 50,000)."
      ],
      "metadata": {
        "id": "T0hmlxQqVmU5"
      }
    },
    {
      "cell_type": "code",
      "source": [
        "def group_payloadmass(df):\n",
        "    df.loc[df[\"PayloadMass\"] < 2000, \"PayloadMass\"] = 0\n",
        "    df.loc[(2000 <= df[\"PayloadMass\"]) & (df[\"PayloadMass\"] < 20000), \"PayloadMass\"] = 1\n",
        "    df.loc[(20000 <= df[\"PayloadMass\"]) & (df[\"PayloadMass\"] < 50000), \"PayloadMass\"] = 2\n",
        "    df.loc[df[\"PayloadMass\"] > 50000, \"PayloadMass\"] = 2\n",
        "    df[\"PayloadMass\"].replace({0: \"Light\", 1: \"Medium\", 2: \"Heavy\", 3: \"Super-Heavy\"}, inplace=True)"
      ],
      "metadata": {
        "execution": {
          "iopub.status.busy": "2021-10-19T15:45:41.461011Z",
          "iopub.execute_input": "2021-10-19T15:45:41.461243Z",
          "iopub.status.idle": "2021-10-19T15:45:41.466826Z",
          "shell.execute_reply.started": "2021-10-19T15:45:41.461213Z",
          "shell.execute_reply": "2021-10-19T15:45:41.466169Z"
        },
        "trusted": true,
        "id": "BRNOwHk0VmU6"
      },
      "execution_count": 36,
      "outputs": []
    },
    {
      "cell_type": "code",
      "source": [
        "# Group payload mass\n",
        "group_payloadmass(df)\n",
        "\n",
        "# Print success rate per payload group\n",
        "print(round(100 * df.groupby(\"PayloadMass\").mean()[\"LandingOutcome\"], 2))\n",
        "print()\n",
        "\n",
        "# Show Chi Square p-value matrix against target variable\n",
        "plot_chisquare_heatmap(df, column_names=[\"PayloadMass\"], target=\"LandingOutcome\", figsize=(5,3.5))"
      ],
      "metadata": {
        "execution": {
          "iopub.status.busy": "2021-10-19T15:45:41.467867Z",
          "iopub.execute_input": "2021-10-19T15:45:41.468188Z",
          "iopub.status.idle": "2021-10-19T15:45:41.754862Z",
          "shell.execute_reply.started": "2021-10-19T15:45:41.468163Z",
          "shell.execute_reply": "2021-10-19T15:45:41.754298Z"
        },
        "trusted": true,
        "colab": {
          "base_uri": "https://localhost:8080/",
          "height": 0
        },
        "id": "TnU_Q0UPVmU6",
        "outputId": "52663224-29fb-4d96-d2fe-a96aa3f54f8d"
      },
      "execution_count": 37,
      "outputs": [
        {
          "output_type": "stream",
          "name": "stdout",
          "text": [
            "PayloadMass\n",
            "Light     58.33\n",
            "Medium    67.95\n",
            "Name: LandingOutcome, dtype: float64\n",
            "\n"
          ]
        },
        {
          "output_type": "display_data",
          "data": {
            "text/plain": [
              "<Figure size 360x252 with 2 Axes>"
            ],
            "image/png": "[encoded data removed]"
          },
          "metadata": {}
        }
      ]
    },
    {
      "cell_type": "markdown",
      "source": [
        "Even after grouping its values into different categories,`PayloadMass` is still independent from `LandingOutcome`."
      ],
      "metadata": {
        "id": "UGNnD6jFVmU6"
      }
    },
    {
      "cell_type": "code",
      "source": [
        "df.drop(columns=[\"PayloadMass\", \"Flights\", \"Year\"], inplace=True)"
      ],
      "metadata": {
        "execution": {
          "iopub.status.busy": "2021-10-19T15:45:41.755694Z",
          "iopub.execute_input": "2021-10-19T15:45:41.756385Z",
          "iopub.status.idle": "2021-10-19T15:45:41.761493Z",
          "shell.execute_reply.started": "2021-10-19T15:45:41.756354Z",
          "shell.execute_reply": "2021-10-19T15:45:41.76061Z"
        },
        "trusted": true,
        "id": "BIvehq5rVmU6"
      },
      "execution_count": 38,
      "outputs": []
    },
    {
      "cell_type": "markdown",
      "source": [
        "## Build Features Set <a class=\"anchor\"  id=\"fs-build-dataset\"></a>\n",
        "At this stage, we are left with 5 variables in our features set. Each of these variables are statistically independent to each other and have a tangible relationship with the target."
      ],
      "metadata": {
        "id": "Osd1Oj_QVmU6"
      }
    },
    {
      "cell_type": "code",
      "source": [
        "df.columns"
      ],
      "metadata": {
        "execution": {
          "iopub.status.busy": "2021-10-19T15:45:41.762764Z",
          "iopub.execute_input": "2021-10-19T15:45:41.763088Z",
          "iopub.status.idle": "2021-10-19T15:45:41.775433Z",
          "shell.execute_reply.started": "2021-10-19T15:45:41.763049Z",
          "shell.execute_reply": "2021-10-19T15:45:41.774668Z"
        },
        "trusted": true,
        "colab": {
          "base_uri": "https://localhost:8080/"
        },
        "id": "8hw7avC1VmU6",
        "outputId": "672db4b8-a216-4a75-c872-974774a1f0dd"
      },
      "execution_count": 39,
      "outputs": [
        {
          "output_type": "execute_result",
          "data": {
            "text/plain": [
              "Index(['Orbit', 'Legs', 'Block', 'Class', 'LandingOutcome', 'LandingRegion'], dtype='object')"
            ]
          },
          "metadata": {},
          "execution_count": 39
        }
      ]
    },
    {
      "cell_type": "code",
      "source": [
        "def get_onehot(df, column):\n",
        "    # Apply one-hot encoding\n",
        "    df = df.join(pd.get_dummies(df[column], prefix=column))\n",
        "    # Drop old variable\n",
        "    return df.drop(columns=column)"
      ],
      "metadata": {
        "execution": {
          "iopub.status.busy": "2021-10-19T15:45:41.776848Z",
          "iopub.execute_input": "2021-10-19T15:45:41.777401Z",
          "iopub.status.idle": "2021-10-19T15:45:41.785183Z",
          "shell.execute_reply.started": "2021-10-19T15:45:41.777362Z",
          "shell.execute_reply": "2021-10-19T15:45:41.784336Z"
        },
        "trusted": true,
        "id": "ny29_JFnVmU7"
      },
      "execution_count": 40,
      "outputs": []
    },
    {
      "cell_type": "markdown",
      "source": [
        "We now proceed at transforming this dataset into a appropriate feature set. First we transform the boolean variables to they contains 0 and 1 instead of True and False"
      ],
      "metadata": {
        "id": "rc3RpHyoVmU7"
      }
    },
    {
      "cell_type": "code",
      "source": [
        "df = df.astype({\"Legs\": int})"
      ],
      "metadata": {
        "execution": {
          "iopub.status.busy": "2021-10-19T15:45:41.786825Z",
          "iopub.execute_input": "2021-10-19T15:45:41.787121Z",
          "iopub.status.idle": "2021-10-19T15:45:41.799304Z",
          "shell.execute_reply.started": "2021-10-19T15:45:41.787085Z",
          "shell.execute_reply": "2021-10-19T15:45:41.798559Z"
        },
        "trusted": true,
        "id": "GaYRg59zVmU7"
      },
      "execution_count": 41,
      "outputs": []
    },
    {
      "cell_type": "markdown",
      "source": [
        "Considering that most machine learning algorithms require numeric values, we proceed to transforming our categorical features using a one-hot encoding."
      ],
      "metadata": {
        "id": "xIn4_i-9VmU7"
      }
    },
    {
      "cell_type": "code",
      "source": [
        "df = get_onehot(df, column=[\"Orbit\"])\n",
        "df = get_onehot(df, column=[\"LandingRegion\"])"
      ],
      "metadata": {
        "execution": {
          "iopub.status.busy": "2021-10-19T15:45:41.800649Z",
          "iopub.execute_input": "2021-10-19T15:45:41.801118Z",
          "iopub.status.idle": "2021-10-19T15:45:41.818866Z",
          "shell.execute_reply.started": "2021-10-19T15:45:41.801079Z",
          "shell.execute_reply": "2021-10-19T15:45:41.818046Z"
        },
        "trusted": true,
        "id": "791jt0CQVmU7"
      },
      "execution_count": 42,
      "outputs": []
    },
    {
      "cell_type": "code",
      "source": [
        "df.head()"
      ],
      "metadata": {
        "execution": {
          "iopub.status.busy": "2021-10-19T15:45:41.820124Z",
          "iopub.execute_input": "2021-10-19T15:45:41.820327Z",
          "iopub.status.idle": "2021-10-19T15:45:41.838057Z",
          "shell.execute_reply.started": "2021-10-19T15:45:41.820302Z",
          "shell.execute_reply": "2021-10-19T15:45:41.836944Z"
        },
        "trusted": true,
        "colab": {
          "base_uri": "https://localhost:8080/",
          "height": 0
        },
        "id": "GtD9MKTlVmU7",
        "outputId": "4431c235-9172-49b9-ddcb-f933662285ba"
      },
      "execution_count": 43,
      "outputs": [
        {
          "output_type": "execute_result",
          "data": {
            "text/plain": [
              "   Legs  Block  Class  LandingOutcome  Orbit_ES-L1  Orbit_GEO  Orbit_GTO  \\\n",
              "0     0      1      0               0            0          0          0   \n",
              "1     0      1      0               0            0          0          0   \n",
              "2     0      1      0               0            0          0          0   \n",
              "3     0      1      0               0            0          0          0   \n",
              "4     0      1      0               0            0          0          1   \n",
              "\n",
              "   Orbit_HEO  Orbit_ISS  Orbit_LEO  Orbit_MEO  Orbit_PO  Orbit_SO  Orbit_SSO  \\\n",
              "0          0          0          1          0         0         0          0   \n",
              "1          0          0          1          0         0         0          0   \n",
              "2          0          1          0          0         0         0          0   \n",
              "3          0          0          0          0         1         0          0   \n",
              "4          0          0          0          0         0         0          0   \n",
              "\n",
              "   Orbit_VLEO  LandingRegion_ASDS  LandingRegion_None  LandingRegion_Ocean  \\\n",
              "0           0                   0                   1                    0   \n",
              "1           0                   0                   1                    0   \n",
              "2           0                   0                   1                    0   \n",
              "3           0                   0                   0                    1   \n",
              "4           0                   0                   1                    0   \n",
              "\n",
              "   LandingRegion_RTLS  \n",
              "0                   0  \n",
              "1                   0  \n",
              "2                   0  \n",
              "3                   0  \n",
              "4                   0  "
            ],
            "text/html": [
              "\n",
              "  <div id=\"df-fe7d1db1-145c-4d39-8fdf-8a9a411668df\">\n",
              "    <div class=\"colab-df-container\">\n",
              "      <div>\n",
              "<style scoped>\n",
              "    .dataframe tbody tr th:only-of-type {\n",
              "        vertical-align: middle;\n",
              "    }\n",
              "\n",
              "    .dataframe tbody tr th {\n",
              "        vertical-align: top;\n",
              "    }\n",
              "\n",
              "    .dataframe thead th {\n",
              "        text-align: right;\n",
              "    }\n",
              "</style>\n",
              "<table border=\"1\" class=\"dataframe\">\n",
              "  <thead>\n",
              "    <tr style=\"text-align: right;\">\n",
              "      <th></th>\n",
              "      <th>Legs</th>\n",
              "      <th>Block</th>\n",
              "      <th>Class</th>\n",
              "      <th>LandingOutcome</th>\n",
              "      <th>Orbit_ES-L1</th>\n",
              "      <th>Orbit_GEO</th>\n",
              "      <th>Orbit_GTO</th>\n",
              "      <th>Orbit_HEO</th>\n",
              "      <th>Orbit_ISS</th>\n",
              "      <th>Orbit_LEO</th>\n",
              "      <th>Orbit_MEO</th>\n",
              "      <th>Orbit_PO</th>\n",
              "      <th>Orbit_SO</th>\n",
              "      <th>Orbit_SSO</th>\n",
              "      <th>Orbit_VLEO</th>\n",
              "      <th>LandingRegion_ASDS</th>\n",
              "      <th>LandingRegion_None</th>\n",
              "      <th>LandingRegion_Ocean</th>\n",
              "      <th>LandingRegion_RTLS</th>\n",
              "    </tr>\n",
              "  </thead>\n",
              "  <tbody>\n",
              "    <tr>\n",
              "      <th>0</th>\n",
              "      <td>0</td>\n",
              "      <td>1</td>\n",
              "      <td>0</td>\n",
              "      <td>0</td>\n",
              "      <td>0</td>\n",
              "      <td>0</td>\n",
              "      <td>0</td>\n",
              "      <td>0</td>\n",
              "      <td>0</td>\n",
              "      <td>1</td>\n",
              "      <td>0</td>\n",
              "      <td>0</td>\n",
              "      <td>0</td>\n",
              "      <td>0</td>\n",
              "      <td>0</td>\n",
              "      <td>0</td>\n",
              "      <td>1</td>\n",
              "      <td>0</td>\n",
              "      <td>0</td>\n",
              "    </tr>\n",
              "    <tr>\n",
              "      <th>1</th>\n",
              "      <td>0</td>\n",
              "      <td>1</td>\n",
              "      <td>0</td>\n",
              "      <td>0</td>\n",
              "      <td>0</td>\n",
              "      <td>0</td>\n",
              "      <td>0</td>\n",
              "      <td>0</td>\n",
              "      <td>0</td>\n",
              "      <td>1</td>\n",
              "      <td>0</td>\n",
              "      <td>0</td>\n",
              "      <td>0</td>\n",
              "      <td>0</td>\n",
              "      <td>0</td>\n",
              "      <td>0</td>\n",
              "      <td>1</td>\n",
              "      <td>0</td>\n",
              "      <td>0</td>\n",
              "    </tr>\n",
              "    <tr>\n",
              "      <th>2</th>\n",
              "      <td>0</td>\n",
              "      <td>1</td>\n",
              "      <td>0</td>\n",
              "      <td>0</td>\n",
              "      <td>0</td>\n",
              "      <td>0</td>\n",
              "      <td>0</td>\n",
              "      <td>0</td>\n",
              "      <td>1</td>\n",
              "      <td>0</td>\n",
              "      <td>0</td>\n",
              "      <td>0</td>\n",
              "      <td>0</td>\n",
              "      <td>0</td>\n",
              "      <td>0</td>\n",
              "      <td>0</td>\n",
              "      <td>1</td>\n",
              "      <td>0</td>\n",
              "      <td>0</td>\n",
              "    </tr>\n",
              "    <tr>\n",
              "      <th>3</th>\n",
              "      <td>0</td>\n",
              "      <td>1</td>\n",
              "      <td>0</td>\n",
              "      <td>0</td>\n",
              "      <td>0</td>\n",
              "      <td>0</td>\n",
              "      <td>0</td>\n",
              "      <td>0</td>\n",
              "      <td>0</td>\n",
              "      <td>0</td>\n",
              "      <td>0</td>\n",
              "      <td>1</td>\n",
              "      <td>0</td>\n",
              "      <td>0</td>\n",
              "      <td>0</td>\n",
              "      <td>0</td>\n",
              "      <td>0</td>\n",
              "      <td>1</td>\n",
              "      <td>0</td>\n",
              "    </tr>\n",
              "    <tr>\n",
              "      <th>4</th>\n",
              "      <td>0</td>\n",
              "      <td>1</td>\n",
              "      <td>0</td>\n",
              "      <td>0</td>\n",
              "      <td>0</td>\n",
              "      <td>0</td>\n",
              "      <td>1</td>\n",
              "      <td>0</td>\n",
              "      <td>0</td>\n",
              "      <td>0</td>\n",
              "      <td>0</td>\n",
              "      <td>0</td>\n",
              "      <td>0</td>\n",
              "      <td>0</td>\n",
              "      <td>0</td>\n",
              "      <td>0</td>\n",
              "      <td>1</td>\n",
              "      <td>0</td>\n",
              "      <td>0</td>\n",
              "    </tr>\n",
              "  </tbody>\n",
              "</table>\n",
              "</div>\n",
              "      <button class=\"colab-df-convert\" onclick=\"convertToInteractive('df-fe7d1db1-145c-4d39-8fdf-8a9a411668df')\"\n",
              "              title=\"Convert this dataframe to an interactive table.\"\n",
              "              style=\"display:none;\">\n",
              "        \n",
              "  <svg xmlns=\"http://www.w3.org/2000/svg\" height=\"24px\"viewBox=\"0 0 24 24\"\n",
              "       width=\"24px\">\n",
              "    <path d=\"M0 0h24v24H0V0z\" fill=\"none\"/>\n",
              "    <path d=\"M18.56 5.44l.94 2.06.94-2.06 2.06-.94-2.06-.94-.94-2.06-.94 2.06-2.06.94zm-11 1L8.5 8.5l.94-2.06 2.06-.94-2.06-.94L8.5 2.5l-.94 2.06-2.06.94zm10 10l.94 2.06.94-2.06 2.06-.94-2.06-.94-.94-2.06-.94 2.06-2.06.94z\"/><path d=\"M17.41 7.96l-1.37-1.37c-.4-.4-.92-.59-1.43-.59-.52 0-1.04.2-1.43.59L10.3 9.45l-7.72 7.72c-.78.78-.78 2.05 0 2.83L4 21.41c.39.39.9.59 1.41.59.51 0 1.02-.2 1.41-.59l7.78-7.78 2.81-2.81c.8-.78.8-2.07 0-2.86zM5.41 20L4 18.59l7.72-7.72 1.47 1.35L5.41 20z\"/>\n",
              "  </svg>\n",
              "      </button>\n",
              "      \n",
              "  <style>\n",
              "    .colab-df-container {\n",
              "      display:flex;\n",
              "      flex-wrap:wrap;\n",
              "      gap: 12px;\n",
              "    }\n",
              "\n",
              "    .colab-df-convert {\n",
              "      background-color: #E8F0FE;\n",
              "      border: none;\n",
              "      border-radius: 50%;\n",
              "      cursor: pointer;\n",
              "      display: none;\n",
              "      fill: #1967D2;\n",
              "      height: 32px;\n",
              "      padding: 0 0 0 0;\n",
              "      width: 32px;\n",
              "    }\n",
              "\n",
              "    .colab-df-convert:hover {\n",
              "      background-color: #E2EBFA;\n",
              "      box-shadow: 0px 1px 2px rgba(60, 64, 67, 0.3), 0px 1px 3px 1px rgba(60, 64, 67, 0.15);\n",
              "      fill: #174EA6;\n",
              "    }\n",
              "\n",
              "    [theme=dark] .colab-df-convert {\n",
              "      background-color: #3B4455;\n",
              "      fill: #D2E3FC;\n",
              "    }\n",
              "\n",
              "    [theme=dark] .colab-df-convert:hover {\n",
              "      background-color: #434B5C;\n",
              "      box-shadow: 0px 1px 3px 1px rgba(0, 0, 0, 0.15);\n",
              "      filter: drop-shadow(0px 1px 2px rgba(0, 0, 0, 0.3));\n",
              "      fill: #FFFFFF;\n",
              "    }\n",
              "  </style>\n",
              "\n",
              "      <script>\n",
              "        const buttonEl =\n",
              "          document.querySelector('#df-fe7d1db1-145c-4d39-8fdf-8a9a411668df button.colab-df-convert');\n",
              "        buttonEl.style.display =\n",
              "          google.colab.kernel.accessAllowed ? 'block' : 'none';\n",
              "\n",
              "        async function convertToInteractive(key) {\n",
              "          const element = document.querySelector('#df-fe7d1db1-145c-4d39-8fdf-8a9a411668df');\n",
              "          const dataTable =\n",
              "            await google.colab.kernel.invokeFunction('convertToInteractive',\n",
              "                                                     [key], {});\n",
              "          if (!dataTable) return;\n",
              "\n",
              "          const docLinkHtml = 'Like what you see? Visit the ' +\n",
              "            '<a target=\"_blank\" href=https://colab.research.google.com/notebooks/data_table.ipynb>data table notebook</a>'\n",
              "            + ' to learn more about interactive tables.';\n",
              "          element.innerHTML = '';\n",
              "          dataTable['output_type'] = 'display_data';\n",
              "          await google.colab.output.renderOutput(dataTable, element);\n",
              "          const docLink = document.createElement('div');\n",
              "          docLink.innerHTML = docLinkHtml;\n",
              "          element.appendChild(docLink);\n",
              "        }\n",
              "      </script>\n",
              "    </div>\n",
              "  </div>\n",
              "  "
            ]
          },
          "metadata": {},
          "execution_count": 43
        }
      ]
    },
    {
      "cell_type": "markdown",
      "source": [
        "Our features sets are now ready to be fed to a machine learning model"
      ],
      "metadata": {
        "id": "LZvk9vePVmU7"
      }
    },
    {
      "cell_type": "markdown",
      "source": [
        "# Machine Learning Predictions <a class=\"anchor\"  id=\"ml-predictions\"></a>"
      ],
      "metadata": {
        "id": "tQe53sXiVmU8"
      }
    },
    {
      "cell_type": "code",
      "source": [
        "from sklearn.model_selection import train_test_split\n",
        "from sklearn.model_selection import GridSearchCV\n",
        "from sklearn.metrics import classification_report\n",
        "from sklearn.metrics import confusion_matrix"
      ],
      "metadata": {
        "execution": {
          "iopub.status.busy": "2021-10-19T15:45:41.839147Z",
          "iopub.execute_input": "2021-10-19T15:45:41.839367Z",
          "iopub.status.idle": "2021-10-19T15:45:41.843748Z",
          "shell.execute_reply.started": "2021-10-19T15:45:41.839343Z",
          "shell.execute_reply": "2021-10-19T15:45:41.842916Z"
        },
        "trusted": true,
        "id": "tXDuTBozVmU8"
      },
      "execution_count": 44,
      "outputs": []
    },
    {
      "cell_type": "code",
      "source": [
        "def plot_confusion_matrix(y=None,y_predict=None, cm=None):\n",
        "    if y is not None and y_predict is not None:\n",
        "        cm = confusion_matrix(y, y_predict, normalize='all')\n",
        "    elif cm is None:\n",
        "        raise Exception(\"Either confusion matrix or y and y_hat required\")\n",
        "    \n",
        "    _, ax = plt.subplots(figsize=(4.5,3.5))\n",
        "    sns.heatmap(cm, annot=True, ax = ax); #annot=True to annotate cells\n",
        "    ax.set_xlabel('Predicted labels')\n",
        "    ax.set_ylabel('True labels')\n",
        "    ax.set_title('Confusion Matrix', fontsize=14); \n",
        "    ax.xaxis.set_ticklabels(['did not land', 'land']);\n",
        "    ax.yaxis.set_ticklabels(['did not land', 'landed'])"
      ],
      "metadata": {
        "execution": {
          "iopub.status.busy": "2021-10-19T15:45:41.845321Z",
          "iopub.execute_input": "2021-10-19T15:45:41.845851Z",
          "iopub.status.idle": "2021-10-19T15:45:41.856748Z",
          "shell.execute_reply.started": "2021-10-19T15:45:41.845812Z",
          "shell.execute_reply": "2021-10-19T15:45:41.856047Z"
        },
        "trusted": true,
        "id": "1vzK725aVmU8"
      },
      "execution_count": 45,
      "outputs": []
    },
    {
      "cell_type": "code",
      "source": [
        "# Concatenate features and target sets\n",
        "data = np.column_stack((\n",
        "    df[[c for c in df.columns if c != \"LandingOutcome\"]].values, \n",
        "    df[\"LandingOutcome\"].values\n",
        "))"
      ],
      "metadata": {
        "execution": {
          "iopub.status.busy": "2021-10-19T15:45:41.858192Z",
          "iopub.execute_input": "2021-10-19T15:45:41.858446Z",
          "iopub.status.idle": "2021-10-19T15:45:41.875318Z",
          "shell.execute_reply.started": "2021-10-19T15:45:41.858418Z",
          "shell.execute_reply": "2021-10-19T15:45:41.874182Z"
        },
        "trusted": true,
        "id": "i9JVdTrjVmU8"
      },
      "execution_count": 46,
      "outputs": []
    },
    {
      "cell_type": "code",
      "source": [
        "# Split dataset into train and test sets\n",
        "# X_train, X_test, Y_train, Y_test = train_test_split(data[:, :-1], data[:,-1], test_size=0.2, shuffle=True, random_state=42)"
      ],
      "metadata": {
        "execution": {
          "iopub.status.busy": "2021-10-19T15:45:41.876293Z",
          "iopub.execute_input": "2021-10-19T15:45:41.876721Z",
          "iopub.status.idle": "2021-10-19T15:45:41.884902Z",
          "shell.execute_reply.started": "2021-10-19T15:45:41.876683Z",
          "shell.execute_reply": "2021-10-19T15:45:41.884272Z"
        },
        "trusted": true,
        "id": "T9QckGkpVmU8"
      },
      "execution_count": null,
      "outputs": []
    },
    {
      "cell_type": "markdown",
      "source": [
        "## Decision Tree <a class=\"anchor\"  id=\"ml-decision-tree\"></a>\n",
        "As noted earlier, the classes in our data are imbalanced. There are much more successful rocker launches than failures. Decision trees usually perform well on imbalanced data as the splitting rules can force both classes to be addressed."
      ],
      "metadata": {
        "id": "W5mZrAL0VmU8"
      }
    },
    {
      "cell_type": "code",
      "source": [
        "from sklearn.tree import DecisionTreeClassifier"
      ],
      "metadata": {
        "execution": {
          "iopub.status.busy": "2021-10-19T15:45:41.885852Z",
          "iopub.execute_input": "2021-10-19T15:45:41.886473Z",
          "iopub.status.idle": "2021-10-19T15:45:41.89946Z",
          "shell.execute_reply.started": "2021-10-19T15:45:41.886443Z",
          "shell.execute_reply": "2021-10-19T15:45:41.898811Z"
        },
        "trusted": true,
        "id": "6XOgcG8LVmU9"
      },
      "execution_count": 47,
      "outputs": []
    },
    {
      "cell_type": "code",
      "source": [
        "parameters = {\n",
        "     'criterion': ['gini', 'entropy'],\n",
        "     'splitter': ['best', 'random'],\n",
        "     'max_depth': [2*n for n in range(1,10)],\n",
        "     'max_features': ['auto', 'sqrt'],\n",
        "     'min_samples_leaf': [1,2,4],\n",
        "     'min_samples_split': [2,3,4,10],\n",
        "     'class_weight': ['balanced', None]\n",
        "}"
      ],
      "metadata": {
        "execution": {
          "iopub.status.busy": "2021-10-19T15:45:41.900652Z",
          "iopub.execute_input": "2021-10-19T15:45:41.901234Z",
          "iopub.status.idle": "2021-10-19T15:45:41.912851Z",
          "shell.execute_reply.started": "2021-10-19T15:45:41.901201Z",
          "shell.execute_reply": "2021-10-19T15:45:41.91198Z"
        },
        "trusted": true,
        "id": "VaNB3NSqVmU9"
      },
      "execution_count": 48,
      "outputs": []
    },
    {
      "cell_type": "code",
      "source": [
        "tree_cv = GridSearchCV(DecisionTreeClassifier(random_state=42), param_grid=parameters, scoring=\"accuracy\", cv=6)\n",
        "tree_cv.fit(data[:, :-1], data[:, -1])\n",
        "tree_cv.best_score_"
      ],
      "metadata": {
        "execution": {
          "iopub.status.busy": "2021-10-19T15:45:41.914279Z",
          "iopub.execute_input": "2021-10-19T15:45:41.914761Z",
          "iopub.status.idle": "2021-10-19T15:45:57.933602Z",
          "shell.execute_reply.started": "2021-10-19T15:45:41.91473Z",
          "shell.execute_reply": "2021-10-19T15:45:57.932665Z"
        },
        "trusted": true,
        "colab": {
          "base_uri": "https://localhost:8080/"
        },
        "id": "vqpgkl30VmU9",
        "outputId": "f014fa3a-97be-45d7-b70a-114c0bcc1b1f"
      },
      "execution_count": 49,
      "outputs": [
        {
          "output_type": "execute_result",
          "data": {
            "text/plain": [
              "0.9444444444444443"
            ]
          },
          "metadata": {},
          "execution_count": 49
        }
      ]
    },
    {
      "cell_type": "code",
      "source": [
        "tree_cv.best_params_"
      ],
      "metadata": {
        "execution": {
          "iopub.status.busy": "2021-10-19T15:45:57.934974Z",
          "iopub.execute_input": "2021-10-19T15:45:57.935211Z",
          "iopub.status.idle": "2021-10-19T15:45:57.941843Z",
          "shell.execute_reply.started": "2021-10-19T15:45:57.935184Z",
          "shell.execute_reply": "2021-10-19T15:45:57.940798Z"
        },
        "trusted": true,
        "colab": {
          "base_uri": "https://localhost:8080/"
        },
        "id": "fjxvQ7NuVmU9",
        "outputId": "813a13f1-c1fa-4ef8-abf8-c2f42da859e2"
      },
      "execution_count": 50,
      "outputs": [
        {
          "output_type": "execute_result",
          "data": {
            "text/plain": [
              "{'class_weight': 'balanced',\n",
              " 'criterion': 'gini',\n",
              " 'max_depth': 8,\n",
              " 'max_features': 'auto',\n",
              " 'min_samples_leaf': 1,\n",
              " 'min_samples_split': 3,\n",
              " 'splitter': 'best'}"
            ]
          },
          "metadata": {},
          "execution_count": 50
        }
      ]
    },
    {
      "cell_type": "markdown",
      "source": [
        "Because we are dealing with a very small dataset that is also imbalanced, it would be a good idea to evaluate our models using a stratified cross validation."
      ],
      "metadata": {
        "id": "0l8bNnn-VmU9"
      }
    },
    {
      "cell_type": "code",
      "source": [
        "from sklearn.model_selection import RepeatedStratifiedKFold\n",
        "from sklearn.metrics import f1_score\n",
        "from sklearn.metrics import precision_score\n",
        "from sklearn.metrics import recall_score\n",
        "from sklearn.metrics import accuracy_score"
      ],
      "metadata": {
        "execution": {
          "iopub.status.busy": "2021-10-19T15:45:57.94322Z",
          "iopub.execute_input": "2021-10-19T15:45:57.943626Z",
          "iopub.status.idle": "2021-10-19T15:45:57.953896Z",
          "shell.execute_reply.started": "2021-10-19T15:45:57.943586Z",
          "shell.execute_reply": "2021-10-19T15:45:57.953097Z"
        },
        "trusted": true,
        "id": "6JIEIjokVmU9"
      },
      "execution_count": 51,
      "outputs": []
    },
    {
      "cell_type": "code",
      "source": [
        "n_splits = 10\n",
        "n_repeats = 2\n",
        "# Matrix of scores: accuracy, precision, recall, and f1\n",
        "scores = np.zeros((n_splits * n_repeats, 4))\n",
        "# Combines the confusion matrices of each fold\n",
        "confusion_matrices = np.zeros((n_splits * n_repeats, 4))\n",
        "\n",
        "skfold = RepeatedStratifiedKFold(n_splits=n_splits, n_repeats=n_repeats, random_state=42)\n",
        "i = 0\n",
        "for train_idx, test_idx in skfold.split(data[:,:-1], data[:,-1]):\n",
        "    X_train, Y_train = data[train_idx, :-1], data[train_idx, -1]\n",
        "    X_test, Y_test = data[test_idx, :-1], data[test_idx, -1]\n",
        "    \n",
        "    # Train model\n",
        "    model = DecisionTreeClassifier(\n",
        "        class_weight=None,\n",
        "        criterion=\"gini\",\n",
        "        max_depth=6,\n",
        "        max_features=\"auto\",\n",
        "        min_samples_leaf=2,\n",
        "        min_samples_split=10,\n",
        "        splitter=\"best\",\n",
        "        random_state=42\n",
        "    )\n",
        "    \n",
        "    model.fit(X_train, Y_train)\n",
        "    \n",
        "    # Evaluate predictions\n",
        "    predictions = model.predict(X_test)\n",
        "    \n",
        "    # Record evaluation scores\n",
        "    scores[i][0] = accuracy_score(predictions, Y_test)\n",
        "    scores[i][1] = precision_score(predictions, Y_test)\n",
        "    scores[i][2] = recall_score(predictions, Y_test)\n",
        "    scores[i][3] = f1_score(predictions, Y_test)\n",
        "    \n",
        "    # Build a confusion matrix for each bootstrap iteration\n",
        "    cm = confusion_matrix(predictions, Y_test, normalize=\"true\")\n",
        "    confusion_matrices[i][0] = cm[0][0]\n",
        "    confusion_matrices[i][1] = cm[0][1]\n",
        "    confusion_matrices[i][2] = cm[1][0]\n",
        "    confusion_matrices[i][3] = cm[1][1]\n",
        "    \n",
        "    i += 1\n",
        "\n",
        "scores = np.mean(scores, axis=0)\n",
        "print(\"accuracy: %.2f precision: %.2f recall: %.2f f1: %.2f\" % (scores[0], scores[1], scores[2], scores[3]))"
      ],
      "metadata": {
        "execution": {
          "iopub.status.busy": "2021-10-19T15:45:57.955377Z",
          "iopub.execute_input": "2021-10-19T15:45:57.955694Z",
          "iopub.status.idle": "2021-10-19T15:45:58.035976Z",
          "shell.execute_reply.started": "2021-10-19T15:45:57.955656Z",
          "shell.execute_reply": "2021-10-19T15:45:58.035103Z"
        },
        "trusted": true,
        "colab": {
          "base_uri": "https://localhost:8080/"
        },
        "id": "YHg0GlT-VmU-",
        "outputId": "bd771cc0-66c9-4d05-ee27-c5b2598a10da"
      },
      "execution_count": 52,
      "outputs": [
        {
          "output_type": "stream",
          "name": "stdout",
          "text": [
            "accuracy: 0.86 precision: 0.94 recall: 0.87 f1: 0.90\n"
          ]
        }
      ]
    },
    {
      "cell_type": "code",
      "source": [
        "confusion_matrices = np.mean(confusion_matrices, axis=0)\n",
        "cm = np.reshape(confusion_matrices, (-1, 2))\n",
        "plot_confusion_matrix(cm=cm)"
      ],
      "metadata": {
        "execution": {
          "iopub.status.busy": "2021-10-19T15:45:58.037379Z",
          "iopub.execute_input": "2021-10-19T15:45:58.037855Z",
          "iopub.status.idle": "2021-10-19T15:45:58.284885Z",
          "shell.execute_reply.started": "2021-10-19T15:45:58.037817Z",
          "shell.execute_reply": "2021-10-19T15:45:58.284285Z"
        },
        "trusted": true,
        "colab": {
          "base_uri": "https://localhost:8080/",
          "height": 275
        },
        "id": "-QQ7wH2_VmU-",
        "outputId": "374ed46f-a953-44c4-c5ad-05dac635f9bb"
      },
      "execution_count": 53,
      "outputs": [
        {
          "output_type": "display_data",
          "data": {
            "text/plain": [
              "<Figure size 324x252 with 2 Axes>"
            ],
            "image/png": "[encoded data removed]"
          },
          "metadata": {}
        }
      ]
    },
    {
      "cell_type": "markdown",
      "source": [
        "# Results <a class=\"anchor\"  id=\"ml-results\"></a>"
      ],
      "metadata": {
        "id": "nrgWZzSCVmU-"
      }
    },
    {
      "cell_type": "markdown",
      "source": [
        "Our decision tree model is able to reach satisfying performances. We obtain an accuracy of 86%, a precision of 94% and recall of 87%. The F1-score is at 90%. \n",
        "\n",
        "Based on the above confusion matrix, our model is slightly better at predicting if the first stage will land successfully."
      ],
      "metadata": {
        "id": "36SC-V3UVmU-"
      }
    },
    {
      "cell_type": "code",
      "source": [
        ""
      ],
      "metadata": {
        "id": "OSz2IifKZt6p"
      },
      "execution_count": null,
      "outputs": []
    }
  ]
}